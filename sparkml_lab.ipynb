{
  "nbformat": 4,
  "nbformat_minor": 0,
  "metadata": {
    "colab": {
      "name": "sparkml_lab.ipynb",
      "provenance": []
    },
    "kernelspec": {
      "display_name": "Python 3",
      "language": "python",
      "name": "python3"
    },
    "language_info": {
      "codemirror_mode": {
        "name": "ipython",
        "version": 3
      },
      "file_extension": ".py",
      "mimetype": "text/x-python",
      "name": "python",
      "nbconvert_exporter": "python",
      "pygments_lexer": "ipython3",
      "version": "3.8.8"
    }
  },
  "cells": [
    {
      "cell_type": "markdown",
      "metadata": {
        "id": "IgI8qJXsmYBu"
      },
      "source": [
        "# Machine Learning With Spark ML\n",
        "In this lab assignment, you will complete a project by going through the following steps:\n",
        "1. Get the data.\n",
        "2. Discover the data to gain insights.\n",
        "3. Prepare the data for Machine Learning algorithms.\n",
        "4. Select a model and train it.\n",
        "5. Fine-tune your model.\n",
        "6. Present your solution.\n",
        "\n",
        "As a dataset, we use the California Housing Prices dataset from the StatLib repository. This dataset was based on data from the 1990 California census. The dataset has the following columns\n",
        "1. `longitude`: a measure of how far west a house is (a higher value is farther west)\n",
        "2. `latitude`: a measure of how far north a house is (a higher value is farther north)\n",
        "3. `housing_,median_age`: median age of a house within a block (a lower number is a newer building)\n",
        "4. `total_rooms`: total number of rooms within a block\n",
        "5. `total_bedrooms`: total number of bedrooms within a block\n",
        "6. `population`: total number of people residing within a block\n",
        "7. `households`: total number of households, a group of people residing within a home unit, for a block\n",
        "8. `median_income`: median income for households within a block of houses\n",
        "9. `median_house_value`: median house value for households within a block\n",
        "10. `ocean_proximity`: location of the house w.r.t ocean/sea"
      ]
    },
    {
      "cell_type": "code",
      "metadata": {
        "colab": {
          "base_uri": "https://localhost:8080/"
        },
        "id": "2yUKQ1KSmZH4",
        "outputId": "0f921e22-2110-4893-ebf5-8a78e24a0bc0"
      },
      "source": [
        "# set environment in colab\n",
        "!apt-get install openjdk-8-jdk-headless -qq > /dev/null\n",
        "!wget -q https://dlcdn.apache.org/spark/spark-3.2.0/spark-3.2.0-bin-hadoop3.2.tgz\n",
        "!tar xf spark-3.2.0-bin-hadoop3.2.tgz\n",
        "!pip install -q findspark\n",
        "import os\n",
        "os.environ[\"JAVA_HOME\"] = \"/usr/lib/jvm/java-8-openjdk-amd64\"\n",
        "os.environ[\"SPARK_HOME\"] = \"/content/spark-3.2.0-bin-hadoop3.2\"\n",
        "!pip install pyspark\n"
      ],
      "execution_count": null,
      "outputs": [
        {
          "output_type": "stream",
          "name": "stdout",
          "text": [
            "Collecting pyspark\n",
            "  Downloading pyspark-3.2.0.tar.gz (281.3 MB)\n",
            "\u001b[K     |████████████████████████████████| 281.3 MB 43 kB/s \n",
            "\u001b[?25hCollecting py4j==0.10.9.2\n",
            "  Downloading py4j-0.10.9.2-py2.py3-none-any.whl (198 kB)\n",
            "\u001b[K     |████████████████████████████████| 198 kB 34.9 MB/s \n",
            "\u001b[?25hBuilding wheels for collected packages: pyspark\n",
            "  Building wheel for pyspark (setup.py) ... \u001b[?25l\u001b[?25hdone\n",
            "  Created wheel for pyspark: filename=pyspark-3.2.0-py2.py3-none-any.whl size=281805912 sha256=e6bf0d848edc26fb4792f8095139700cfece40fe0d90834787adecb1959cb734\n",
            "  Stored in directory: /root/.cache/pip/wheels/0b/de/d2/9be5d59d7331c6c2a7c1b6d1a4f463ce107332b1ecd4e80718\n",
            "Successfully built pyspark\n",
            "Installing collected packages: py4j, pyspark\n",
            "Successfully installed py4j-0.10.9.2 pyspark-3.2.0\n"
          ]
        }
      ]
    },
    {
      "cell_type": "markdown",
      "metadata": {
        "id": "Vv6J-MYtmYBz"
      },
      "source": [
        "---\n",
        "# 1. Get the data\n",
        "Let's start the lab by loading the dataset. The can find the dataset at `data/housing.csv`. To infer column types automatically, when you are reading the file, you need to set `inferSchema` to true. Moreover enable the `header` option to read the columns' name from the file."
      ]
    },
    {
      "cell_type": "code",
      "metadata": {
        "id": "J1lHyrHOmYB0"
      },
      "source": [
        "from pyspark.sql import SparkSession\n",
        "spark = SparkSession.builder.master(\"local\").appName(\"Colab\").config(\"spark.ui.port\", \"4050\").getOrCreate()"
      ],
      "execution_count": null,
      "outputs": []
    },
    {
      "cell_type": "code",
      "metadata": {
        "colab": {
          "base_uri": "https://localhost:8080/"
        },
        "id": "6Cg3jboKmYB2",
        "outputId": "00adac50-cd2f-4d47-fe81-6323d3afc5ab"
      },
      "source": [
        "# TODO: Replace <FILL IN> with appropriate code\n",
        "\n",
        "housing = spark.read.format(\"csv\").option(\"inferSchema\", \"true\").option(\"header\", \"true\").load(\"data/housing.csv\")\n",
        "housing.show()"
      ],
      "execution_count": null,
      "outputs": [
        {
          "output_type": "stream",
          "name": "stdout",
          "text": [
            "+---------+--------+------------------+-----------+--------------+----------+----------+-------------+------------------+---------------+\n",
            "|longitude|latitude|housing_median_age|total_rooms|total_bedrooms|population|households|median_income|median_house_value|ocean_proximity|\n",
            "+---------+--------+------------------+-----------+--------------+----------+----------+-------------+------------------+---------------+\n",
            "|  -122.23|   37.88|              41.0|      880.0|         129.0|     322.0|     126.0|       8.3252|          452600.0|       NEAR BAY|\n",
            "|  -122.22|   37.86|              21.0|     7099.0|        1106.0|    2401.0|    1138.0|       8.3014|          358500.0|       NEAR BAY|\n",
            "|  -122.24|   37.85|              52.0|     1467.0|         190.0|     496.0|     177.0|       7.2574|          352100.0|       NEAR BAY|\n",
            "|  -122.25|   37.85|              52.0|     1274.0|         235.0|     558.0|     219.0|       5.6431|          341300.0|       NEAR BAY|\n",
            "|  -122.25|   37.85|              52.0|     1627.0|         280.0|     565.0|     259.0|       3.8462|          342200.0|       NEAR BAY|\n",
            "|  -122.25|   37.85|              52.0|      919.0|         213.0|     413.0|     193.0|       4.0368|          269700.0|       NEAR BAY|\n",
            "|  -122.25|   37.84|              52.0|     2535.0|         489.0|    1094.0|     514.0|       3.6591|          299200.0|       NEAR BAY|\n",
            "|  -122.25|   37.84|              52.0|     3104.0|         687.0|    1157.0|     647.0|         3.12|          241400.0|       NEAR BAY|\n",
            "|  -122.26|   37.84|              42.0|     2555.0|         665.0|    1206.0|     595.0|       2.0804|          226700.0|       NEAR BAY|\n",
            "|  -122.25|   37.84|              52.0|     3549.0|         707.0|    1551.0|     714.0|       3.6912|          261100.0|       NEAR BAY|\n",
            "|  -122.26|   37.85|              52.0|     2202.0|         434.0|     910.0|     402.0|       3.2031|          281500.0|       NEAR BAY|\n",
            "|  -122.26|   37.85|              52.0|     3503.0|         752.0|    1504.0|     734.0|       3.2705|          241800.0|       NEAR BAY|\n",
            "|  -122.26|   37.85|              52.0|     2491.0|         474.0|    1098.0|     468.0|        3.075|          213500.0|       NEAR BAY|\n",
            "|  -122.26|   37.84|              52.0|      696.0|         191.0|     345.0|     174.0|       2.6736|          191300.0|       NEAR BAY|\n",
            "|  -122.26|   37.85|              52.0|     2643.0|         626.0|    1212.0|     620.0|       1.9167|          159200.0|       NEAR BAY|\n",
            "|  -122.26|   37.85|              50.0|     1120.0|         283.0|     697.0|     264.0|        2.125|          140000.0|       NEAR BAY|\n",
            "|  -122.27|   37.85|              52.0|     1966.0|         347.0|     793.0|     331.0|        2.775|          152500.0|       NEAR BAY|\n",
            "|  -122.27|   37.85|              52.0|     1228.0|         293.0|     648.0|     303.0|       2.1202|          155500.0|       NEAR BAY|\n",
            "|  -122.26|   37.84|              50.0|     2239.0|         455.0|     990.0|     419.0|       1.9911|          158700.0|       NEAR BAY|\n",
            "|  -122.27|   37.84|              52.0|     1503.0|         298.0|     690.0|     275.0|       2.6033|          162900.0|       NEAR BAY|\n",
            "+---------+--------+------------------+-----------+--------------+----------+----------+-------------+------------------+---------------+\n",
            "only showing top 20 rows\n",
            "\n"
          ]
        }
      ]
    },
    {
      "cell_type": "markdown",
      "metadata": {
        "id": "Fu683NvjmYB3"
      },
      "source": [
        "---\n",
        "# 2. Discover the data to gain insights\n",
        "Now it is time to take a look at the data. In this step we are going to take a look at the data a few different ways:\n",
        "* See the schema and dimension of the dataset\n",
        "* Look at the data itself\n",
        "* Statistical summary of the attributes\n",
        "* Breakdown of the data by the categorical attribute variable\n",
        "* Find the correlation among different attributes\n",
        "* Make new attributes by combining existing attributes"
      ]
    },
    {
      "cell_type": "markdown",
      "metadata": {
        "id": "1SpbvIufmYB3"
      },
      "source": [
        "## 2.1. Schema and dimension\n",
        "Print the schema of the dataset"
      ]
    },
    {
      "cell_type": "code",
      "metadata": {
        "colab": {
          "base_uri": "https://localhost:8080/"
        },
        "id": "BC2KL6JZmYB4",
        "outputId": "24279434-af0f-4331-d1be-93432055ac39"
      },
      "source": [
        "# TODO: Replace <FILL IN> with appropriate code\n",
        "\n",
        "housing.printSchema()"
      ],
      "execution_count": null,
      "outputs": [
        {
          "output_type": "stream",
          "name": "stdout",
          "text": [
            "root\n",
            " |-- longitude: double (nullable = true)\n",
            " |-- latitude: double (nullable = true)\n",
            " |-- housing_median_age: double (nullable = true)\n",
            " |-- total_rooms: double (nullable = true)\n",
            " |-- total_bedrooms: double (nullable = true)\n",
            " |-- population: double (nullable = true)\n",
            " |-- households: double (nullable = true)\n",
            " |-- median_income: double (nullable = true)\n",
            " |-- median_house_value: double (nullable = true)\n",
            " |-- ocean_proximity: string (nullable = true)\n",
            "\n"
          ]
        }
      ]
    },
    {
      "cell_type": "markdown",
      "metadata": {
        "id": "l0t-m1IRmYB5"
      },
      "source": [
        "Print the number of records in the dataset."
      ]
    },
    {
      "cell_type": "code",
      "metadata": {
        "colab": {
          "base_uri": "https://localhost:8080/"
        },
        "id": "v_DfpKT7mYB5",
        "outputId": "b21ca767-fd52-4f7f-baea-60eeeb668b98"
      },
      "source": [
        "# TODO: Replace <FILL IN> with appropriate code\n",
        "\n",
        "housing.count()"
      ],
      "execution_count": null,
      "outputs": [
        {
          "output_type": "execute_result",
          "data": {
            "text/plain": [
              "20640"
            ]
          },
          "metadata": {},
          "execution_count": 6
        }
      ]
    },
    {
      "cell_type": "markdown",
      "metadata": {
        "id": "xgiQ01ammYB6"
      },
      "source": [
        "## 2.2. Look at the data\n",
        "Print the first five records of the dataset."
      ]
    },
    {
      "cell_type": "code",
      "metadata": {
        "colab": {
          "base_uri": "https://localhost:8080/"
        },
        "id": "Z2CLC46vmYB7",
        "outputId": "2d022935-4753-4169-fe8e-4f6adb2b0cdf"
      },
      "source": [
        "# TODO: Replace <FILL IN> with appropriate code\n",
        "\n",
        "housing.show(5)"
      ],
      "execution_count": null,
      "outputs": [
        {
          "output_type": "stream",
          "name": "stdout",
          "text": [
            "+---------+--------+------------------+-----------+--------------+----------+----------+-------------+------------------+---------------+\n",
            "|longitude|latitude|housing_median_age|total_rooms|total_bedrooms|population|households|median_income|median_house_value|ocean_proximity|\n",
            "+---------+--------+------------------+-----------+--------------+----------+----------+-------------+------------------+---------------+\n",
            "|  -122.23|   37.88|              41.0|      880.0|         129.0|     322.0|     126.0|       8.3252|          452600.0|       NEAR BAY|\n",
            "|  -122.22|   37.86|              21.0|     7099.0|        1106.0|    2401.0|    1138.0|       8.3014|          358500.0|       NEAR BAY|\n",
            "|  -122.24|   37.85|              52.0|     1467.0|         190.0|     496.0|     177.0|       7.2574|          352100.0|       NEAR BAY|\n",
            "|  -122.25|   37.85|              52.0|     1274.0|         235.0|     558.0|     219.0|       5.6431|          341300.0|       NEAR BAY|\n",
            "|  -122.25|   37.85|              52.0|     1627.0|         280.0|     565.0|     259.0|       3.8462|          342200.0|       NEAR BAY|\n",
            "+---------+--------+------------------+-----------+--------------+----------+----------+-------------+------------------+---------------+\n",
            "only showing top 5 rows\n",
            "\n"
          ]
        }
      ]
    },
    {
      "cell_type": "markdown",
      "metadata": {
        "id": "smRyjZG4mYB7"
      },
      "source": [
        "Print the number of records with population more than 10000."
      ]
    },
    {
      "cell_type": "code",
      "metadata": {
        "colab": {
          "base_uri": "https://localhost:8080/"
        },
        "id": "dVLQm-SfmYB7",
        "outputId": "2f481427-371b-4c47-b378-197b8c1e8504"
      },
      "source": [
        "# TODO: Replace <FILL IN> with appropriate code\n",
        "\n",
        "housing.filter(\"population > 10000\").show()"
      ],
      "execution_count": null,
      "outputs": [
        {
          "output_type": "stream",
          "name": "stdout",
          "text": [
            "+---------+--------+------------------+-----------+--------------+----------+----------+-------------+------------------+---------------+\n",
            "|longitude|latitude|housing_median_age|total_rooms|total_bedrooms|population|households|median_income|median_house_value|ocean_proximity|\n",
            "+---------+--------+------------------+-----------+--------------+----------+----------+-------------+------------------+---------------+\n",
            "|  -121.92|   37.53|               7.0|    28258.0|        3864.0|   12203.0|    3701.0|       8.4045|          451100.0|      <1H OCEAN|\n",
            "|  -117.78|   34.03|               8.0|    32054.0|        5290.0|   15507.0|    5050.0|       6.0191|          253900.0|      <1H OCEAN|\n",
            "|  -117.87|   34.04|               7.0|    27700.0|        4179.0|   15037.0|    4072.0|       6.6288|          339700.0|      <1H OCEAN|\n",
            "|  -117.88|   33.96|              16.0|    19059.0|        3079.0|   10988.0|    3061.0|       5.5469|          265200.0|      <1H OCEAN|\n",
            "|  -118.78|   34.16|               9.0|    30405.0|        4093.0|   12873.0|    3931.0|       8.0137|          399200.0|     NEAR OCEAN|\n",
            "|  -118.09|   34.68|               4.0|    23386.0|        4171.0|   10493.0|    3671.0|       4.0211|          144000.0|         INLAND|\n",
            "|   -118.1|   34.57|               7.0|    20377.0|        4335.0|   11973.0|    3933.0|       3.3086|          138100.0|         INLAND|\n",
            "|  -118.46|    34.4|              12.0|    25957.0|        4798.0|   10475.0|    4490.0|        4.542|          195300.0|      <1H OCEAN|\n",
            "|  -121.61|   36.69|              19.0|     9899.0|        2617.0|   11272.0|    2528.0|       2.0244|          118500.0|      <1H OCEAN|\n",
            "|  -121.68|   36.72|              12.0|    19234.0|        4492.0|   12153.0|    4372.0|       3.2652|          152800.0|      <1H OCEAN|\n",
            "|  -121.79|   36.64|              11.0|    32627.0|        6445.0|   28566.0|    6082.0|       2.3087|          118800.0|      <1H OCEAN|\n",
            "|  -117.74|   33.89|               4.0|    37937.0|        5471.0|   16122.0|    5189.0|       7.4947|          366300.0|      <1H OCEAN|\n",
            "|  -117.12|   33.52|               4.0|    30401.0|        4957.0|   13251.0|    4339.0|       4.5841|          212300.0|      <1H OCEAN|\n",
            "|  -121.53|   38.48|               5.0|    27870.0|        5027.0|   11935.0|    4855.0|       4.8811|          212200.0|         INLAND|\n",
            "|   -121.4|   38.47|               4.0|    20982.0|        3392.0|   10329.0|    3086.0|       4.3658|          130600.0|         INLAND|\n",
            "|  -121.44|   38.43|               3.0|    39320.0|        6210.0|   16305.0|    5358.0|       4.9516|          153700.0|         INLAND|\n",
            "|  -117.75|   34.01|               4.0|    22128.0|        3522.0|   10450.0|    3258.0|       6.1287|          289600.0|      <1H OCEAN|\n",
            "|  -117.61|    34.1|               9.0|    18956.0|        4095.0|   10323.0|    3832.0|       3.6033|          132600.0|         INLAND|\n",
            "|  -116.14|   34.45|              12.0|     8796.0|        1721.0|   11139.0|    1680.0|       2.2612|          137500.0|         INLAND|\n",
            "|  -117.42|   33.35|              14.0|    25135.0|        4819.0|   35682.0|    4769.0|       2.5729|          134400.0|      <1H OCEAN|\n",
            "+---------+--------+------------------+-----------+--------------+----------+----------+-------------+------------------+---------------+\n",
            "only showing top 20 rows\n",
            "\n"
          ]
        }
      ]
    },
    {
      "cell_type": "markdown",
      "metadata": {
        "id": "1nfc9CHamYB8"
      },
      "source": [
        "## 2.3. Statistical summary\n",
        "Print a summary of the table statistics for the attributes `housing_median_age`, `total_rooms`, `median_house_value`, and `population`. You can use the `describe` command."
      ]
    },
    {
      "cell_type": "code",
      "metadata": {
        "colab": {
          "base_uri": "https://localhost:8080/"
        },
        "id": "SHgGkqTRmYB8",
        "outputId": "9e92a6dc-08cc-4437-d770-c3813344b424"
      },
      "source": [
        "# TODO: Replace <FILL IN> with appropriate code\n",
        "\n",
        "housing.describe([\"housing_median_age\"]).show()\n",
        "housing.describe([\"total_rooms\"]).show()\n",
        "housing.describe([\"median_house_value\"]).show()\n",
        "housing.describe([\"population\"]).show()"
      ],
      "execution_count": null,
      "outputs": [
        {
          "output_type": "stream",
          "name": "stdout",
          "text": [
            "+-------+------------------+\n",
            "|summary|housing_median_age|\n",
            "+-------+------------------+\n",
            "|  count|             20640|\n",
            "|   mean|28.639486434108527|\n",
            "| stddev| 12.58555761211163|\n",
            "|    min|               1.0|\n",
            "|    max|              52.0|\n",
            "+-------+------------------+\n",
            "\n",
            "+-------+------------------+\n",
            "|summary|       total_rooms|\n",
            "+-------+------------------+\n",
            "|  count|             20640|\n",
            "|   mean|2635.7630813953488|\n",
            "| stddev|2181.6152515827944|\n",
            "|    min|               2.0|\n",
            "|    max|           39320.0|\n",
            "+-------+------------------+\n",
            "\n",
            "+-------+------------------+\n",
            "|summary|median_house_value|\n",
            "+-------+------------------+\n",
            "|  count|             20640|\n",
            "|   mean|206855.81690891474|\n",
            "| stddev|115395.61587441359|\n",
            "|    min|           14999.0|\n",
            "|    max|          500001.0|\n",
            "+-------+------------------+\n",
            "\n",
            "+-------+------------------+\n",
            "|summary|        population|\n",
            "+-------+------------------+\n",
            "|  count|             20640|\n",
            "|   mean|1425.4767441860465|\n",
            "| stddev|  1132.46212176534|\n",
            "|    min|               3.0|\n",
            "|    max|           35682.0|\n",
            "+-------+------------------+\n",
            "\n"
          ]
        }
      ]
    },
    {
      "cell_type": "markdown",
      "metadata": {
        "id": "3ve098j8mYB9"
      },
      "source": [
        "Print the maximum age (`housing_median_age`), the minimum number of rooms (`total_rooms`), and the average of house values (`median_house_value`)."
      ]
    },
    {
      "cell_type": "code",
      "metadata": {
        "colab": {
          "base_uri": "https://localhost:8080/"
        },
        "id": "1HKcs1rrmYB9",
        "outputId": "eb878989-91c4-45e7-aed3-54098d351364"
      },
      "source": [
        "# TODO: Replace <FILL IN> with appropriate code\n",
        "\n",
        "from pyspark.sql.functions import max, min, avg\n",
        "\n",
        "housing.select(max(\"housing_median_age\"), min(\"total_rooms\"), avg(\"median_house_value\")).show()"
      ],
      "execution_count": null,
      "outputs": [
        {
          "output_type": "stream",
          "name": "stdout",
          "text": [
            "+-----------------------+----------------+-----------------------+\n",
            "|max(housing_median_age)|min(total_rooms)|avg(median_house_value)|\n",
            "+-----------------------+----------------+-----------------------+\n",
            "|                   52.0|             2.0|     206855.81690891474|\n",
            "+-----------------------+----------------+-----------------------+\n",
            "\n"
          ]
        }
      ]
    },
    {
      "cell_type": "markdown",
      "metadata": {
        "id": "ucmgQsB-mYB-"
      },
      "source": [
        "## 2.4. Breakdown the data by categorical data\n",
        "Print the number of houses in different areas (`ocean_proximity`), and sort them in descending order."
      ]
    },
    {
      "cell_type": "code",
      "metadata": {
        "colab": {
          "base_uri": "https://localhost:8080/"
        },
        "id": "JWkGMeOgmYB-",
        "outputId": "3a198e91-2d3b-49bf-8056-6556a1397dd6"
      },
      "source": [
        "# TODO: Replace <FILL IN> with appropriate code\n",
        "\n",
        "housing.groupBy(\"ocean_proximity\").count().sort(\"count\", ascending = False).show()"
      ],
      "execution_count": null,
      "outputs": [
        {
          "output_type": "stream",
          "name": "stdout",
          "text": [
            "+---------------+-----+\n",
            "|ocean_proximity|count|\n",
            "+---------------+-----+\n",
            "|      <1H OCEAN| 9136|\n",
            "|         INLAND| 6551|\n",
            "|     NEAR OCEAN| 2658|\n",
            "|       NEAR BAY| 2290|\n",
            "|         ISLAND|    5|\n",
            "+---------------+-----+\n",
            "\n"
          ]
        }
      ]
    },
    {
      "cell_type": "markdown",
      "metadata": {
        "id": "2IF8_jaLmYB_"
      },
      "source": [
        "Print the average value of the houses (`median_house_value`) in different areas (`ocean_proximity`), and call the new column `avg_value` when print it."
      ]
    },
    {
      "cell_type": "code",
      "metadata": {
        "colab": {
          "base_uri": "https://localhost:8080/"
        },
        "id": "V0YT-PHcmYB_",
        "outputId": "dd75dd6f-026d-4848-8a47-4b2d24e6e0a3"
      },
      "source": [
        "# TODO: Replace <FILL IN> with appropriate code\n",
        "\n",
        "housing.groupBy(\"ocean_proximity\").agg(avg(\"median_house_value\").alias(\"avg_value\")).show()"
      ],
      "execution_count": null,
      "outputs": [
        {
          "output_type": "stream",
          "name": "stdout",
          "text": [
            "+---------------+------------------+\n",
            "|ocean_proximity|         avg_value|\n",
            "+---------------+------------------+\n",
            "|         ISLAND|          380440.0|\n",
            "|     NEAR OCEAN|249433.97742663656|\n",
            "|       NEAR BAY|259212.31179039303|\n",
            "|      <1H OCEAN|240084.28546409807|\n",
            "|         INLAND|124805.39200122119|\n",
            "+---------------+------------------+\n",
            "\n"
          ]
        }
      ]
    },
    {
      "cell_type": "markdown",
      "metadata": {
        "id": "5upB7XE3mYCA"
      },
      "source": [
        "Rewrite the above question in SQL."
      ]
    },
    {
      "cell_type": "code",
      "metadata": {
        "colab": {
          "base_uri": "https://localhost:8080/"
        },
        "id": "9zZRHskSmYCA",
        "outputId": "ac635b6a-bf55-4fec-ddc7-84d5185709ee"
      },
      "source": [
        "# TODO: Replace <FILL IN> with appropriate code\n",
        "\n",
        "housing.createOrReplaceTempView(\"df\")\n",
        "spark.sql(\"SELECT ocean_proximity, avg(median_house_value) as avg_value FROM df GROUP by ocean_proximity\").show()"
      ],
      "execution_count": null,
      "outputs": [
        {
          "output_type": "stream",
          "name": "stdout",
          "text": [
            "+---------------+------------------+\n",
            "|ocean_proximity|         avg_value|\n",
            "+---------------+------------------+\n",
            "|         ISLAND|          380440.0|\n",
            "|     NEAR OCEAN|249433.97742663656|\n",
            "|       NEAR BAY|259212.31179039303|\n",
            "|      <1H OCEAN|240084.28546409807|\n",
            "|         INLAND|124805.39200122119|\n",
            "+---------------+------------------+\n",
            "\n"
          ]
        }
      ]
    },
    {
      "cell_type": "markdown",
      "metadata": {
        "id": "aD9VOvnNmYCA"
      },
      "source": [
        "## 2.5. Correlation among attributes\n",
        "Print the correlation among the attributes `housing_median_age`, `total_rooms`, `median_house_value`, and `population`. To do so, first you need to put these attributes into one vector. Then, compute the standard correlation coefficient (Pearson) between every pair of attributes in this new vector. To make a vector of these attributes, you can use the `VectorAssembler` Transformer."
      ]
    },
    {
      "cell_type": "code",
      "metadata": {
        "colab": {
          "base_uri": "https://localhost:8080/"
        },
        "id": "VpTM8CwsmYCA",
        "outputId": "c675c066-6b34-4dab-8170-f44ccdced97c"
      },
      "source": [
        "# TODO: Replace <FILL IN> with appropriate code\n",
        "\n",
        "from pyspark.ml.feature import VectorAssembler\n",
        "\n",
        "va = VectorAssembler().setInputCols([\"housing_median_age\", \"total_rooms\", \"median_house_value\", \"population\"])\\\n",
        "                      .setOutputCol(\"Correlation\")\n",
        "\n",
        "housingAttrs = va.transform(housing)\n",
        "\n",
        "housingAttrs.select(\"Correlation\").show(5, truncate = False)"
      ],
      "execution_count": null,
      "outputs": [
        {
          "output_type": "stream",
          "name": "stdout",
          "text": [
            "+-----------------------------+\n",
            "|Correlation                  |\n",
            "+-----------------------------+\n",
            "|[41.0,880.0,452600.0,322.0]  |\n",
            "|[21.0,7099.0,358500.0,2401.0]|\n",
            "|[52.0,1467.0,352100.0,496.0] |\n",
            "|[52.0,1274.0,341300.0,558.0] |\n",
            "|[52.0,1627.0,342200.0,565.0] |\n",
            "+-----------------------------+\n",
            "only showing top 5 rows\n",
            "\n"
          ]
        }
      ]
    },
    {
      "cell_type": "code",
      "metadata": {
        "colab": {
          "base_uri": "https://localhost:8080/"
        },
        "id": "WkTSmWv7mYCB",
        "outputId": "d10af09c-fc72-45fc-922e-c73fff85d309"
      },
      "source": [
        "# TODO: Replace <FILL IN> with appropriate code\n",
        "\n",
        "from pyspark.ml.linalg import Matrix\n",
        "from pyspark.ml.stat import Correlation\n",
        "from pyspark.sql import Row\n",
        "\n",
        "row = Correlation.corr(housingAttrs, \"Correlation\").head()\n",
        "\n",
        "print(\"The standard correlation coefficient:\\n\" + str(row[0]))"
      ],
      "execution_count": null,
      "outputs": [
        {
          "output_type": "stream",
          "name": "stdout",
          "text": [
            "The standard correlation coefficient:\n",
            "DenseMatrix([[ 1.        , -0.3612622 ,  0.10562341, -0.29624424],\n",
            "             [-0.3612622 ,  1.        ,  0.13415311,  0.85712597],\n",
            "             [ 0.10562341,  0.13415311,  1.        , -0.02464968],\n",
            "             [-0.29624424,  0.85712597, -0.02464968,  1.        ]])\n"
          ]
        },
        {
          "output_type": "stream",
          "name": "stderr",
          "text": [
            "/usr/local/lib/python3.7/dist-packages/pyspark/sql/context.py:127: FutureWarning: Deprecated in 3.0.0. Use SparkSession.builder.getOrCreate() instead.\n",
            "  FutureWarning\n"
          ]
        }
      ]
    },
    {
      "cell_type": "markdown",
      "metadata": {
        "id": "UgdBbPPimYCB"
      },
      "source": [
        "## 2.6. Combine and make new attributes\n",
        "Now, let's try out various attribute combinations. In the given dataset, the total number of rooms in a block is not very useful, if we don't know how many households there are. What we really want is the number of rooms per household. Similarly, the total number of bedrooms by itself is not very useful, and we want to compare it to the number of rooms. And the population per household seems like also an interesting attribute combination to look at. To do so, add the three new columns to the dataset as below. We will call the new dataset the `housingExtra`.\n",
        "```\n",
        "rooms_per_household = total_rooms / households\n",
        "bedrooms_per_room = total_bedrooms / total_rooms\n",
        "population_per_household = population / households\n",
        "```"
      ]
    },
    {
      "cell_type": "code",
      "metadata": {
        "colab": {
          "base_uri": "https://localhost:8080/"
        },
        "id": "4R9zTVe_mYCB",
        "outputId": "553b50a6-2914-497c-8b57-936c8400152b"
      },
      "source": [
        "# TODO: Replace <FILL IN> with appropriate code\n",
        "\n",
        "housingCol1 = housing.withColumn(\"rooms_per_household\", housing.total_rooms / housing.households)\n",
        "housingCol2 = housingCol1.withColumn(\"bedrooms_per_room\", housing.total_bedrooms / housing.total_rooms)\n",
        "housingExtra = housingCol2.withColumn(\"population_per_household\", housing.population / housing.households)\n",
        "\n",
        "housingExtra.select(\"rooms_per_household\", \"bedrooms_per_room\", \"population_per_household\").show(5)"
      ],
      "execution_count": null,
      "outputs": [
        {
          "output_type": "stream",
          "name": "stdout",
          "text": [
            "+-------------------+-------------------+------------------------+\n",
            "|rooms_per_household|  bedrooms_per_room|population_per_household|\n",
            "+-------------------+-------------------+------------------------+\n",
            "|  6.984126984126984|0.14659090909090908|      2.5555555555555554|\n",
            "|  6.238137082601054|0.15579659106916466|       2.109841827768014|\n",
            "|  8.288135593220339|0.12951601908657123|      2.8022598870056497|\n",
            "| 5.8173515981735155|0.18445839874411302|       2.547945205479452|\n",
            "|  6.281853281853282| 0.1720958819913952|      2.1814671814671813|\n",
            "+-------------------+-------------------+------------------------+\n",
            "only showing top 5 rows\n",
            "\n"
          ]
        }
      ]
    },
    {
      "cell_type": "markdown",
      "metadata": {
        "id": "dGglEGfcmYCC"
      },
      "source": [
        "---\n",
        "## 3. Prepare the data for Machine Learning algorithms\n",
        "Before going through the Machine Learning steps, let's first rename the label column from `median_house_value` to `label`."
      ]
    },
    {
      "cell_type": "code",
      "metadata": {
        "colab": {
          "base_uri": "https://localhost:8080/"
        },
        "id": "OZAVFA-TmYCC",
        "outputId": "b5873ba2-5855-4722-c8fe-7eb083a4f435"
      },
      "source": [
        "# TODO: Replace <FILL IN> with appropriate code\n",
        "\n",
        "renamedHousing = housingExtra.withColumnRenamed(\"median_house_value\",\"label\")\n",
        "renamedHousing.show(1)"
      ],
      "execution_count": null,
      "outputs": [
        {
          "output_type": "stream",
          "name": "stdout",
          "text": [
            "+---------+--------+------------------+-----------+--------------+----------+----------+-------------+--------+---------------+-------------------+-------------------+------------------------+\n",
            "|longitude|latitude|housing_median_age|total_rooms|total_bedrooms|population|households|median_income|   label|ocean_proximity|rooms_per_household|  bedrooms_per_room|population_per_household|\n",
            "+---------+--------+------------------+-----------+--------------+----------+----------+-------------+--------+---------------+-------------------+-------------------+------------------------+\n",
            "|  -122.23|   37.88|              41.0|      880.0|         129.0|     322.0|     126.0|       8.3252|452600.0|       NEAR BAY|  6.984126984126984|0.14659090909090908|      2.5555555555555554|\n",
            "+---------+--------+------------------+-----------+--------------+----------+----------+-------------+--------+---------------+-------------------+-------------------+------------------------+\n",
            "only showing top 1 row\n",
            "\n"
          ]
        }
      ]
    },
    {
      "cell_type": "markdown",
      "metadata": {
        "id": "vbKf13mrmYCC"
      },
      "source": [
        "Now, we want to separate the numerical attributes from the categorical attribute (`ocean_proximity`) and keep their column names in two different lists. Moreover, sice we don't want to apply the same transformations to the predictors (features) and the label, we should remove the label attribute from the list of predictors. "
      ]
    },
    {
      "cell_type": "code",
      "metadata": {
        "colab": {
          "base_uri": "https://localhost:8080/"
        },
        "id": "MtOtre_5mYCC",
        "outputId": "e9cbcc19-85bb-4106-83b6-575493ad1f6c"
      },
      "source": [
        "# label columns\n",
        "colLabel = \"label\"\n",
        "\n",
        "# categorical columns\n",
        "colCat = \"ocean_proximity\"\n",
        "\n",
        "# numerical columns\n",
        "colNum = renamedHousing.schema.names\n",
        "colNum.remove(colLabel)\n",
        "colNum.remove(colCat)\n",
        "print(colNum)"
      ],
      "execution_count": null,
      "outputs": [
        {
          "output_type": "stream",
          "name": "stdout",
          "text": [
            "['longitude', 'latitude', 'housing_median_age', 'total_rooms', 'total_bedrooms', 'population', 'households', 'median_income', 'rooms_per_household', 'bedrooms_per_room', 'population_per_household']\n"
          ]
        }
      ]
    },
    {
      "cell_type": "markdown",
      "metadata": {
        "id": "xm2CAaJZmYCC"
      },
      "source": [
        "## 3.1. Prepare continuse attributes\n",
        "### Data cleaning\n",
        "Most Machine Learning algorithms cannot work with missing features, so we should take care of them. As a first step, let's find the columns with missing values in the numerical attributes. To do so, we can print the number of missing values of each continues attributes, listed in `colNum`."
      ]
    },
    {
      "cell_type": "code",
      "metadata": {
        "colab": {
          "base_uri": "https://localhost:8080/"
        },
        "id": "n0dIZiUOmYCD",
        "outputId": "718c66fc-a25c-4a14-f1ea-f0b3f16f1c0c"
      },
      "source": [
        "# TODO: Replace <FILL IN> with appropriate code\n",
        "from pyspark.sql.functions import isnan, when, count, col\n",
        "\n",
        "renamedHousing.select([count(when(col(c).isNull(), c)).alias(c) for c in renamedHousing.columns]).show()"
      ],
      "execution_count": null,
      "outputs": [
        {
          "output_type": "stream",
          "name": "stdout",
          "text": [
            "+---------+--------+------------------+-----------+--------------+----------+----------+-------------+-----+---------------+-------------------+-----------------+------------------------+\n",
            "|longitude|latitude|housing_median_age|total_rooms|total_bedrooms|population|households|median_income|label|ocean_proximity|rooms_per_household|bedrooms_per_room|population_per_household|\n",
            "+---------+--------+------------------+-----------+--------------+----------+----------+-------------+-----+---------------+-------------------+-----------------+------------------------+\n",
            "|        0|       0|                 0|          0|           207|         0|         0|            0|    0|              0|                  0|              207|                       0|\n",
            "+---------+--------+------------------+-----------+--------------+----------+----------+-------------+-----+---------------+-------------------+-----------------+------------------------+\n",
            "\n"
          ]
        }
      ]
    },
    {
      "cell_type": "markdown",
      "metadata": {
        "id": "3Ebn0dkVmYCD"
      },
      "source": [
        "As we observerd above, the `total_bedrooms` and `bedrooms_per_room` attributes have some missing values. One way to take care of missing values is to use the `Imputer` Transformer, which completes missing values in a dataset, either using the mean or the median of the columns in which the missing values are located. To use it, you need to create an `Imputer` instance, specifying that you want to replace each attribute's missing values with the \"median\" of that attribute."
      ]
    },
    {
      "cell_type": "code",
      "metadata": {
        "colab": {
          "base_uri": "https://localhost:8080/"
        },
        "id": "czKZjFT9mYCD",
        "outputId": "0ade2298-8385-4425-b091-c5ca26a8e1ba"
      },
      "source": [
        "# TODO: Replace <FILL IN> with appropriate code\n",
        "\n",
        "from pyspark.ml.feature import Imputer\n",
        "\n",
        "imputer = Imputer().setStrategy(\"median\").setInputCols([\"total_bedrooms\", \"bedrooms_per_room\"])\\\n",
        "                                         .setOutputCols([\"total_bedrooms\", \"bedrooms_per_room\"])\n",
        "\n",
        "imputedHousing = imputer.fit(renamedHousing).transform(renamedHousing)\n",
        "\n",
        "imputedHousing.select(\"total_bedrooms\", \"bedrooms_per_room\").show(5)"
      ],
      "execution_count": null,
      "outputs": [
        {
          "output_type": "stream",
          "name": "stdout",
          "text": [
            "+--------------+-------------------+\n",
            "|total_bedrooms|  bedrooms_per_room|\n",
            "+--------------+-------------------+\n",
            "|         129.0|0.14659090909090908|\n",
            "|        1106.0|0.15579659106916466|\n",
            "|         190.0|0.12951601908657123|\n",
            "|         235.0|0.18445839874411302|\n",
            "|         280.0| 0.1720958819913952|\n",
            "+--------------+-------------------+\n",
            "only showing top 5 rows\n",
            "\n"
          ]
        }
      ]
    },
    {
      "cell_type": "markdown",
      "metadata": {
        "id": "Cfa13U_ymYCE"
      },
      "source": [
        "### Scaling\n",
        "One of the most important transformations you need to apply to your data is feature scaling. With few exceptions, Machine Learning algorithms don't perform well when the input numerical attributes have very different scales. This is the case for the housing data: the total number of rooms ranges from about 6 to 39,320, while the median incomes only range from 0 to 15. Note that scaling the label attribues is generally not required.\n",
        "\n",
        "One way to get all attributes to have the same scale is to use standardization. In standardization, for each value, first it subtracts the mean value (so standardized values always have a zero mean), and then it divides by the variance so that the resulting distribution has unit variance. To do this, we can use the `StandardScaler` Estimator. To use `StandardScaler`, again we need to convert all the numerical attributes into a big vectore of features using `VectorAssembler`, and then call `StandardScaler` on that vactor."
      ]
    },
    {
      "cell_type": "code",
      "metadata": {
        "colab": {
          "base_uri": "https://localhost:8080/"
        },
        "id": "YqUqMZYTmYCE",
        "outputId": "3fd13448-822f-4c2b-c075-68922ba03375"
      },
      "source": [
        "# TODO: Replace <FILL IN> with appropriate code\n",
        "\n",
        "from pyspark.ml.feature import VectorAssembler, StandardScaler\n",
        "\n",
        "va = VectorAssembler().setInputCols(colNum).setOutputCol(\"vector_of_features\")\n",
        "\n",
        "featuredHousing = va.transform(imputedHousing)\n",
        "\n",
        "scaler = StandardScaler().setInputCol(\"vector_of_features\").setOutputCol(\"scaled_features\")\n",
        "scaledHousing = scaler.fit(featuredHousing).transform(featuredHousing)\n",
        "\n",
        "scaledHousing.show(5)"
      ],
      "execution_count": null,
      "outputs": [
        {
          "output_type": "stream",
          "name": "stdout",
          "text": [
            "+---------+--------+------------------+-----------+--------------+----------+----------+-------------+--------+---------------+-------------------+-------------------+------------------------+--------------------+--------------------+\n",
            "|longitude|latitude|housing_median_age|total_rooms|total_bedrooms|population|households|median_income|   label|ocean_proximity|rooms_per_household|  bedrooms_per_room|population_per_household|  vector_of_features|     scaled_features|\n",
            "+---------+--------+------------------+-----------+--------------+----------+----------+-------------+--------+---------------+-------------------+-------------------+------------------------+--------------------+--------------------+\n",
            "|  -122.23|   37.88|              41.0|      880.0|         129.0|     322.0|     126.0|       8.3252|452600.0|       NEAR BAY|  6.984126984126984|0.14659090909090908|      2.5555555555555554|[-122.23,37.88,41...|[-61.007269596069...|\n",
            "|  -122.22|   37.86|              21.0|     7099.0|        1106.0|    2401.0|    1138.0|       8.3014|358500.0|       NEAR BAY|  6.238137082601054|0.15579659106916466|       2.109841827768014|[-122.22,37.86,21...|[-61.002278409814...|\n",
            "|  -122.24|   37.85|              52.0|     1467.0|         190.0|     496.0|     177.0|       7.2574|352100.0|       NEAR BAY|  8.288135593220339|0.12951601908657123|      2.8022598870056497|[-122.24,37.85,52...|[-61.012260782324...|\n",
            "|  -122.25|   37.85|              52.0|     1274.0|         235.0|     558.0|     219.0|       5.6431|341300.0|       NEAR BAY| 5.8173515981735155|0.18445839874411302|       2.547945205479452|[-122.25,37.85,52...|[-61.017251968579...|\n",
            "|  -122.25|   37.85|              52.0|     1627.0|         280.0|     565.0|     259.0|       3.8462|342200.0|       NEAR BAY|  6.281853281853282| 0.1720958819913952|      2.1814671814671813|[-122.25,37.85,52...|[-61.017251968579...|\n",
            "+---------+--------+------------------+-----------+--------------+----------+----------+-------------+--------+---------------+-------------------+-------------------+------------------------+--------------------+--------------------+\n",
            "only showing top 5 rows\n",
            "\n"
          ]
        }
      ]
    },
    {
      "cell_type": "markdown",
      "metadata": {
        "id": "aLRHB-4CmYCE"
      },
      "source": [
        "## 3.2. Prepare categorical attributes\n",
        "After imputing and scaling the continuse attributes, we should take care of the categorical attributes. Let's first print the number of distict values of the categirical attribute `ocean_proximity`."
      ]
    },
    {
      "cell_type": "code",
      "metadata": {
        "colab": {
          "base_uri": "https://localhost:8080/"
        },
        "id": "Xc0bt-LMmYCE",
        "outputId": "34e1ba2a-5ef2-443e-c4ed-ba6362d6a626"
      },
      "source": [
        "# TODO: Replace <FILL IN> with appropriate code\n",
        "from pyspark.sql.functions import countDistinct\n",
        "\n",
        "renamedHousing.select(\"ocean_proximity\").distinct().count()"
      ],
      "execution_count": null,
      "outputs": [
        {
          "output_type": "execute_result",
          "data": {
            "text/plain": [
              "5"
            ]
          },
          "metadata": {},
          "execution_count": 22
        }
      ]
    },
    {
      "cell_type": "markdown",
      "metadata": {
        "id": "YrLabpCWmYCF"
      },
      "source": [
        "### String indexer\n",
        "Most Machine Learning algorithms prefer to work with numbers. So let's convert the categorical attribute `ocean_proximity` to numbers. To do so, we can use the `StringIndexer` that encodes a string column of labels to a column of label indices. The indices are in [0, numLabels), ordered by label frequencies, so the most frequent label gets index 0."
      ]
    },
    {
      "cell_type": "code",
      "metadata": {
        "colab": {
          "base_uri": "https://localhost:8080/"
        },
        "id": "ip4XTkvGmYCF",
        "outputId": "abb4bc4d-355c-45b3-d438-93169ab6a27a"
      },
      "source": [
        "# TODO: Replace <FILL IN> with appropriate code\n",
        "\n",
        "from pyspark.ml.feature import StringIndexer\n",
        "\n",
        "indexer = StringIndexer().setInputCol(\"ocean_proximity\").setOutputCol(\"indexed_ocean_proximity\")\n",
        "idxHousing = indexer.fit(renamedHousing).transform(renamedHousing)\n",
        "\n",
        "idxHousing.show(5)"
      ],
      "execution_count": null,
      "outputs": [
        {
          "output_type": "stream",
          "name": "stdout",
          "text": [
            "+---------+--------+------------------+-----------+--------------+----------+----------+-------------+--------+---------------+-------------------+-------------------+------------------------+-----------------------+\n",
            "|longitude|latitude|housing_median_age|total_rooms|total_bedrooms|population|households|median_income|   label|ocean_proximity|rooms_per_household|  bedrooms_per_room|population_per_household|indexed_ocean_proximity|\n",
            "+---------+--------+------------------+-----------+--------------+----------+----------+-------------+--------+---------------+-------------------+-------------------+------------------------+-----------------------+\n",
            "|  -122.23|   37.88|              41.0|      880.0|         129.0|     322.0|     126.0|       8.3252|452600.0|       NEAR BAY|  6.984126984126984|0.14659090909090908|      2.5555555555555554|                    3.0|\n",
            "|  -122.22|   37.86|              21.0|     7099.0|        1106.0|    2401.0|    1138.0|       8.3014|358500.0|       NEAR BAY|  6.238137082601054|0.15579659106916466|       2.109841827768014|                    3.0|\n",
            "|  -122.24|   37.85|              52.0|     1467.0|         190.0|     496.0|     177.0|       7.2574|352100.0|       NEAR BAY|  8.288135593220339|0.12951601908657123|      2.8022598870056497|                    3.0|\n",
            "|  -122.25|   37.85|              52.0|     1274.0|         235.0|     558.0|     219.0|       5.6431|341300.0|       NEAR BAY| 5.8173515981735155|0.18445839874411302|       2.547945205479452|                    3.0|\n",
            "|  -122.25|   37.85|              52.0|     1627.0|         280.0|     565.0|     259.0|       3.8462|342200.0|       NEAR BAY|  6.281853281853282| 0.1720958819913952|      2.1814671814671813|                    3.0|\n",
            "+---------+--------+------------------+-----------+--------------+----------+----------+-------------+--------+---------------+-------------------+-------------------+------------------------+-----------------------+\n",
            "only showing top 5 rows\n",
            "\n"
          ]
        }
      ]
    },
    {
      "cell_type": "markdown",
      "metadata": {
        "id": "cEJTFS1bmYCF"
      },
      "source": [
        "Now we can use this numerical data in any Machine Learning algorithm. You can look at the mapping that this encoder has learned using the `labels` method: \"<1H OCEAN\" is mapped to 0, \"INLAND\" is mapped to 1, etc."
      ]
    },
    {
      "cell_type": "code",
      "metadata": {
        "colab": {
          "base_uri": "https://localhost:8080/"
        },
        "id": "5hXYy_OamYCF",
        "outputId": "a875b7c1-5b3c-4d11-d753-a6e41caf78cf"
      },
      "source": [
        "indexer.fit(renamedHousing).labels"
      ],
      "execution_count": null,
      "outputs": [
        {
          "output_type": "execute_result",
          "data": {
            "text/plain": [
              "['<1H OCEAN', 'INLAND', 'NEAR OCEAN', 'NEAR BAY', 'ISLAND']"
            ]
          },
          "metadata": {},
          "execution_count": 24
        }
      ]
    },
    {
      "cell_type": "markdown",
      "metadata": {
        "id": "xmzS-MtKmYCF"
      },
      "source": [
        "### One-hot encoding\n",
        "Now, convert the label indices built in the last step into one-hot vectors. To do this, you can take advantage of the `OneHotEncoderEstimator` Estimator."
      ]
    },
    {
      "cell_type": "code",
      "metadata": {
        "colab": {
          "base_uri": "https://localhost:8080/"
        },
        "id": "AHgAFYRVmYCG",
        "outputId": "a246fdd5-b2d8-41ec-aa75-7a7da68925a7"
      },
      "source": [
        "# TODO: Replace <FILL IN> with appropriate code\n",
        "\n",
        "from pyspark.ml.feature import OneHotEncoder\n",
        "\n",
        "encoder = OneHotEncoder().setInputCol(\"indexed_ocean_proximity\").setOutputCol(\"encoded_ocean_proximity\")\n",
        "ohHousing = encoder.fit(idxHousing).transform(idxHousing)\n",
        "\n",
        "ohHousing.show(5)"
      ],
      "execution_count": null,
      "outputs": [
        {
          "output_type": "stream",
          "name": "stdout",
          "text": [
            "+---------+--------+------------------+-----------+--------------+----------+----------+-------------+--------+---------------+-------------------+-------------------+------------------------+-----------------------+-----------------------+\n",
            "|longitude|latitude|housing_median_age|total_rooms|total_bedrooms|population|households|median_income|   label|ocean_proximity|rooms_per_household|  bedrooms_per_room|population_per_household|indexed_ocean_proximity|encoded_ocean_proximity|\n",
            "+---------+--------+------------------+-----------+--------------+----------+----------+-------------+--------+---------------+-------------------+-------------------+------------------------+-----------------------+-----------------------+\n",
            "|  -122.23|   37.88|              41.0|      880.0|         129.0|     322.0|     126.0|       8.3252|452600.0|       NEAR BAY|  6.984126984126984|0.14659090909090908|      2.5555555555555554|                    3.0|          (4,[3],[1.0])|\n",
            "|  -122.22|   37.86|              21.0|     7099.0|        1106.0|    2401.0|    1138.0|       8.3014|358500.0|       NEAR BAY|  6.238137082601054|0.15579659106916466|       2.109841827768014|                    3.0|          (4,[3],[1.0])|\n",
            "|  -122.24|   37.85|              52.0|     1467.0|         190.0|     496.0|     177.0|       7.2574|352100.0|       NEAR BAY|  8.288135593220339|0.12951601908657123|      2.8022598870056497|                    3.0|          (4,[3],[1.0])|\n",
            "|  -122.25|   37.85|              52.0|     1274.0|         235.0|     558.0|     219.0|       5.6431|341300.0|       NEAR BAY| 5.8173515981735155|0.18445839874411302|       2.547945205479452|                    3.0|          (4,[3],[1.0])|\n",
            "|  -122.25|   37.85|              52.0|     1627.0|         280.0|     565.0|     259.0|       3.8462|342200.0|       NEAR BAY|  6.281853281853282| 0.1720958819913952|      2.1814671814671813|                    3.0|          (4,[3],[1.0])|\n",
            "+---------+--------+------------------+-----------+--------------+----------+----------+-------------+--------+---------------+-------------------+-------------------+------------------------+-----------------------+-----------------------+\n",
            "only showing top 5 rows\n",
            "\n"
          ]
        }
      ]
    },
    {
      "cell_type": "markdown",
      "metadata": {
        "id": "9EL7ITyomYCG"
      },
      "source": [
        "---\n",
        "# 4. Pipeline\n",
        "As you can see, there are many data transformation steps that need to be executed in the right order. For example, you called the `Imputer`, `VectorAssembler`, and `StandardScaler` from left to right. However, we can use the `Pipeline` class to define a sequence of Transformers/Estimators, and run them in order. A `Pipeline` is an `Estimator`, thus, after a Pipeline's `fit()` method runs, it produces a `PipelineModel`, which is a `Transformer`.\n",
        "\n",
        "Now, let's create a pipeline called `numPipeline` to call the numerical transformers you built above (`imputer`, `va`, and `scaler`) in the right order from left to right, as well as a pipeline called `catPipeline` to call the categorical transformers (`indexer` and `encoder`). Then, put these two pipelines `numPipeline` and `catPipeline` into one pipeline."
      ]
    },
    {
      "cell_type": "code",
      "metadata": {
        "colab": {
          "base_uri": "https://localhost:8080/"
        },
        "id": "7N62zHFamYCG",
        "outputId": "5d24f5be-4114-415e-b684-1f13c0f4e55b"
      },
      "source": [
        "# TODO: Replace <FILL IN> with appropriate code\n",
        "\n",
        "from pyspark.ml import Pipeline\n",
        "\n",
        "numPipeline = Pipeline().setStages([imputer, va, scaler])\n",
        "catPipeline = Pipeline().setStages([indexer, encoder])\n",
        "pipeline = Pipeline().setStages([numPipeline, catPipeline])\n",
        "newHousing = pipeline.fit(renamedHousing).transform(renamedHousing)\n",
        "\n",
        "newHousing.show(5)"
      ],
      "execution_count": null,
      "outputs": [
        {
          "output_type": "stream",
          "name": "stdout",
          "text": [
            "+---------+--------+------------------+-----------+--------------+----------+----------+-------------+--------+---------------+-------------------+-------------------+------------------------+--------------------+--------------------+-----------------------+-----------------------+\n",
            "|longitude|latitude|housing_median_age|total_rooms|total_bedrooms|population|households|median_income|   label|ocean_proximity|rooms_per_household|  bedrooms_per_room|population_per_household|  vector_of_features|     scaled_features|indexed_ocean_proximity|encoded_ocean_proximity|\n",
            "+---------+--------+------------------+-----------+--------------+----------+----------+-------------+--------+---------------+-------------------+-------------------+------------------------+--------------------+--------------------+-----------------------+-----------------------+\n",
            "|  -122.23|   37.88|              41.0|      880.0|         129.0|     322.0|     126.0|       8.3252|452600.0|       NEAR BAY|  6.984126984126984|0.14659090909090908|      2.5555555555555554|[-122.23,37.88,41...|[-61.007269596069...|                    3.0|          (4,[3],[1.0])|\n",
            "|  -122.22|   37.86|              21.0|     7099.0|        1106.0|    2401.0|    1138.0|       8.3014|358500.0|       NEAR BAY|  6.238137082601054|0.15579659106916466|       2.109841827768014|[-122.22,37.86,21...|[-61.002278409814...|                    3.0|          (4,[3],[1.0])|\n",
            "|  -122.24|   37.85|              52.0|     1467.0|         190.0|     496.0|     177.0|       7.2574|352100.0|       NEAR BAY|  8.288135593220339|0.12951601908657123|      2.8022598870056497|[-122.24,37.85,52...|[-61.012260782324...|                    3.0|          (4,[3],[1.0])|\n",
            "|  -122.25|   37.85|              52.0|     1274.0|         235.0|     558.0|     219.0|       5.6431|341300.0|       NEAR BAY| 5.8173515981735155|0.18445839874411302|       2.547945205479452|[-122.25,37.85,52...|[-61.017251968579...|                    3.0|          (4,[3],[1.0])|\n",
            "|  -122.25|   37.85|              52.0|     1627.0|         280.0|     565.0|     259.0|       3.8462|342200.0|       NEAR BAY|  6.281853281853282| 0.1720958819913952|      2.1814671814671813|[-122.25,37.85,52...|[-61.017251968579...|                    3.0|          (4,[3],[1.0])|\n",
            "+---------+--------+------------------+-----------+--------------+----------+----------+-------------+--------+---------------+-------------------+-------------------+------------------------+--------------------+--------------------+-----------------------+-----------------------+\n",
            "only showing top 5 rows\n",
            "\n"
          ]
        }
      ]
    },
    {
      "cell_type": "markdown",
      "metadata": {
        "id": "VeX81SlemYCG"
      },
      "source": [
        "Now, use `VectorAssembler` to put all attributes of the final dataset `newHousing` into a big vector, and call the new column `features`."
      ]
    },
    {
      "cell_type": "code",
      "metadata": {
        "colab": {
          "base_uri": "https://localhost:8080/"
        },
        "id": "h7-mZDhqmYCG",
        "outputId": "15dca7e2-45c1-4ebc-bbb9-20c6f83c7e50"
      },
      "source": [
        "# TODO: Replace <FILL IN> with appropriate code\n",
        "\n",
        "va2 = VectorAssembler().setInputCols([\"scaled_features\", \"encoded_ocean_proximity\"]).setOutputCol(\"features\")\n",
        "dataset = va2.transform(newHousing).select(\"features\", \"label\")\n",
        "\n",
        "dataset.show(5)"
      ],
      "execution_count": null,
      "outputs": [
        {
          "output_type": "stream",
          "name": "stdout",
          "text": [
            "+--------------------+--------+\n",
            "|            features|   label|\n",
            "+--------------------+--------+\n",
            "|[-61.007269596069...|452600.0|\n",
            "|[-61.002278409814...|358500.0|\n",
            "|[-61.012260782324...|352100.0|\n",
            "|[-61.017251968579...|341300.0|\n",
            "|[-61.017251968579...|342200.0|\n",
            "+--------------------+--------+\n",
            "only showing top 5 rows\n",
            "\n"
          ]
        }
      ]
    },
    {
      "cell_type": "markdown",
      "metadata": {
        "id": "xiDANERFmYCG"
      },
      "source": [
        "---\n",
        "# 5. Make a model\n",
        "Here we going to make four different regression models:\n",
        "* Linear regression model\n",
        "* Decission tree regression\n",
        "* Random forest regression\n",
        "* Gradient-booster forest regression\n",
        "\n",
        "But, before giving the data to train a Machine Learning model, let's first split the data into training dataset (`trainSet`) with 80% of the whole data, and test dataset (`testSet`) with 20% of it."
      ]
    },
    {
      "cell_type": "code",
      "metadata": {
        "id": "cub33pGLmYCH"
      },
      "source": [
        "# TODO: Replace <FILL IN> with appropriate code\n",
        "\n",
        "trainSet, testSet = dataset.randomSplit([0.8, 0.2])"
      ],
      "execution_count": null,
      "outputs": []
    },
    {
      "cell_type": "markdown",
      "metadata": {
        "id": "GuvYC6UFmYCH"
      },
      "source": [
        "## 5.1. Linear regression model\n",
        "Now, train a Linear Regression model using the `LinearRegression` class. Then, print the coefficients and intercept of the model, as well as the summary of the model over the training set by calling the `summary` method."
      ]
    },
    {
      "cell_type": "code",
      "metadata": {
        "colab": {
          "base_uri": "https://localhost:8080/"
        },
        "id": "jIRJHHAhmYCH",
        "outputId": "5fa0bf94-2ab6-4eb8-e5a9-8bfbcfd12f00"
      },
      "source": [
        "# TODO: Replace <FILL IN> with appropriate code\n",
        "\n",
        "from pyspark.ml.regression import LinearRegression\n",
        "\n",
        "# train the model\n",
        "lr = LinearRegression().setFeaturesCol(\"features\").setLabelCol(\"label\")\n",
        "lrModel = lr.fit(trainSet)\n",
        "trainingSummary = lrModel.summary\n",
        "\n",
        "print(\"Coefficients: \" + str(lrModel.coefficients) + \", Intercept: \" + str(lrModel.intercept))\n",
        "print(\"RMSE: \" + str(trainingSummary.rootMeanSquaredError))"
      ],
      "execution_count": null,
      "outputs": [
        {
          "output_type": "stream",
          "name": "stdout",
          "text": [
            "Coefficients: [-57147.737985118554,-57935.70791035172,13455.483250805146,6750.686124093028,3874.5347931340953,-48022.481438327224,42155.64259729657,77640.31302678415,5806.120200490973,15768.43875178104,3449.9584552181536,-140749.52706638593,-175089.93329012993,-136995.1252249268,-144198.43778972188], Intercept: -2353889.082927693\n",
            "RMSE: 68282.61822335226\n"
          ]
        }
      ]
    },
    {
      "cell_type": "markdown",
      "metadata": {
        "id": "w939WVEUmYCH"
      },
      "source": [
        "Now, use `RegressionEvaluator` to measure the root-mean-square-erroe (RMSE) of the model on the test dataset."
      ]
    },
    {
      "cell_type": "code",
      "metadata": {
        "colab": {
          "base_uri": "https://localhost:8080/"
        },
        "id": "CkwJgU-XmYCH",
        "outputId": "8650f420-a545-486a-bd33-03bbf5017d26"
      },
      "source": [
        "# TODO: Replace <FILL IN> with appropriate code\n",
        "\n",
        "from pyspark.ml.evaluation import RegressionEvaluator\n",
        "\n",
        "# make predictions on the test data\n",
        "predictions = lrModel.transform(testSet)\n",
        "predictions.select(\"prediction\", \"label\", \"features\").show(5)\n",
        "\n",
        "# select (prediction, true label) and compute test error.\n",
        "evaluator = RegressionEvaluator().setPredictionCol(\"prediction\").setLabelCol(\"label\").setMetricName(\"rmse\")\n",
        "rmse = evaluator.evaluate(predictions)\n",
        "print(\"Root Mean Squared Error (RMSE) on test data = \" + str(rmse))"
      ],
      "execution_count": null,
      "outputs": [
        {
          "output_type": "stream",
          "name": "stdout",
          "text": [
            "+------------------+--------+--------------------+\n",
            "|        prediction|   label|            features|\n",
            "+------------------+--------+--------------------+\n",
            "|201051.75513811782| 94600.0|[-62.065401082150...|\n",
            "|103525.83735515922| 85800.0|[-62.040445150874...|\n",
            "|114319.81307244767| 73200.0|[-62.005506847089...|\n",
            "| 160615.2624858003| 70200.0|[-61.980550915813...|\n",
            "| 224187.4537583082|116100.0|[-61.975559729558...|\n",
            "+------------------+--------+--------------------+\n",
            "only showing top 5 rows\n",
            "\n",
            "Root Mean Squared Error (RMSE) on test data = 66593.54990756433\n"
          ]
        }
      ]
    },
    {
      "cell_type": "markdown",
      "metadata": {
        "id": "8tJBkDgOmYCH"
      },
      "source": [
        "## 5.2. Decision tree regression\n",
        "Repeat what you have done on Regression Model to build a Decision Tree model. Use the `DecisionTreeRegressor` to make a model and then measure its RMSE on the test dataset."
      ]
    },
    {
      "cell_type": "code",
      "metadata": {
        "colab": {
          "base_uri": "https://localhost:8080/"
        },
        "id": "8EGOP2UNmYCI",
        "outputId": "bb9dc5c6-952e-4a37-c2d9-686fb6b7bf86"
      },
      "source": [
        "# TODO: Replace <FILL IN> with appropriate code\n",
        "\n",
        "from pyspark.ml.regression import DecisionTreeRegressor\n",
        "from pyspark.ml.evaluation import RegressionEvaluator\n",
        "\n",
        "dt = DecisionTreeRegressor().setFeaturesCol(\"features\").setLabelCol(\"label\")\n",
        "\n",
        "# train the model\n",
        "dtModel = dt.fit(trainSet)\n",
        "\n",
        "# make predictions on the test data\n",
        "predictions = dtModel.transform(testSet)\n",
        "predictions.select(\"prediction\", \"label\", \"features\").show(5)\n",
        "\n",
        "# select (prediction, true label) and compute test error\n",
        "evaluator = RegressionEvaluator().setPredictionCol(\"prediction\").setLabelCol(\"label\").setMetricName(\"rmse\")\n",
        "rmse = evaluator.evaluate(predictions)\n",
        "print(\"Root Mean Squared Error (RMSE) on test data = \" + str(rmse))"
      ],
      "execution_count": null,
      "outputs": [
        {
          "output_type": "stream",
          "name": "stdout",
          "text": [
            "+------------------+--------+--------------------+\n",
            "|        prediction|   label|            features|\n",
            "+------------------+--------+--------------------+\n",
            "|176350.12317961166| 94600.0|[-62.065401082150...|\n",
            "|145757.10947503202| 85800.0|[-62.040445150874...|\n",
            "|145757.10947503202| 73200.0|[-62.005506847089...|\n",
            "|145757.10947503202| 70200.0|[-61.980550915813...|\n",
            "|244505.91454730416|116100.0|[-61.975559729558...|\n",
            "+------------------+--------+--------------------+\n",
            "only showing top 5 rows\n",
            "\n",
            "Root Mean Squared Error (RMSE) on test data = 66944.91782491452\n"
          ]
        }
      ]
    },
    {
      "cell_type": "markdown",
      "metadata": {
        "id": "-K1p_5DfmYCI"
      },
      "source": [
        "## 5.3. Random forest regression\n",
        "Let's try the test error on a Random Forest Model. Youcan use the `RandomForestRegressor` to make a Random Forest model."
      ]
    },
    {
      "cell_type": "code",
      "metadata": {
        "colab": {
          "base_uri": "https://localhost:8080/"
        },
        "id": "AKhGQzRxmYCI",
        "outputId": "8e489dc4-a44c-40b9-a07b-152e0f783e0d"
      },
      "source": [
        "# TODO: Replace <FILL IN> with appropriate code\n",
        "\n",
        "from pyspark.ml.regression import RandomForestRegressor\n",
        "from pyspark.ml.evaluation import RegressionEvaluator\n",
        "\n",
        "rf = RandomForestRegressor().setFeaturesCol(\"features\").setLabelCol(\"label\")\n",
        "\n",
        "# train the model\n",
        "rfModel = rf.fit(trainSet)\n",
        "\n",
        "# make predictions on the test data\n",
        "predictions = rfModel.transform(testSet)\n",
        "predictions.select(\"prediction\", \"label\", \"features\").show(5)\n",
        "\n",
        "# select (prediction, true label) and compute test error\n",
        "evaluator = RegressionEvaluator().setPredictionCol(\"prediction\").setLabelCol(\"label\").setMetricName(\"rmse\")\n",
        "rmse = evaluator.evaluate(predictions)\n",
        "print(\"Root Mean Squared Error (RMSE) on test data = \" + str(rmse))"
      ],
      "execution_count": null,
      "outputs": [
        {
          "output_type": "stream",
          "name": "stdout",
          "text": [
            "+------------------+--------+--------------------+\n",
            "|        prediction|   label|            features|\n",
            "+------------------+--------+--------------------+\n",
            "|195947.84431306663| 94600.0|[-62.065401082150...|\n",
            "|183631.78259895332| 85800.0|[-62.040445150874...|\n",
            "|198440.02599346772| 73200.0|[-62.005506847089...|\n",
            "|173560.95241840873| 70200.0|[-61.980550915813...|\n",
            "|242832.88030477715|116100.0|[-61.975559729558...|\n",
            "+------------------+--------+--------------------+\n",
            "only showing top 5 rows\n",
            "\n",
            "Root Mean Squared Error (RMSE) on test data = 64200.613375867004\n"
          ]
        }
      ]
    },
    {
      "cell_type": "markdown",
      "metadata": {
        "id": "wPmhwT9HmYCI"
      },
      "source": [
        "## 5.4. Gradient-boosted tree regression\n",
        "Fianlly, we want to build a Gradient-boosted Tree Regression model and test the RMSE of the test data. Use the `GBTRegressor` to build the model."
      ]
    },
    {
      "cell_type": "code",
      "metadata": {
        "colab": {
          "base_uri": "https://localhost:8080/"
        },
        "id": "lpXtTS6LmYCI",
        "outputId": "db58f4cb-9206-4901-a0c8-35cc7a44fd68"
      },
      "source": [
        "# TODO: Replace <FILL IN> with appropriate code\n",
        "\n",
        "from pyspark.ml.regression import GBTRegressor\n",
        "from pyspark.ml.evaluation import RegressionEvaluator\n",
        "\n",
        "gb = GBTRegressor().setFeaturesCol(\"features\").setLabelCol(\"label\")\n",
        "\n",
        "# train the model\n",
        "gbModel = gb.fit(trainSet)\n",
        "\n",
        "# make predictions on the test data\n",
        "predictions = gbModel.transform(testSet)\n",
        "predictions.select(\"prediction\", \"label\", \"features\").show(5)\n",
        "\n",
        "# select (prediction, true label) and compute test error\n",
        "evaluator = RegressionEvaluator().setPredictionCol(\"prediction\").setLabelCol(\"label\").setMetricName(\"rmse\")\n",
        "rmse = evaluator.evaluate(predictions)\n",
        "print(\"Root Mean Squared Error (RMSE) on test data = \" + str(rmse))"
      ],
      "execution_count": null,
      "outputs": [
        {
          "output_type": "stream",
          "name": "stdout",
          "text": [
            "+------------------+--------+--------------------+\n",
            "|        prediction|   label|            features|\n",
            "+------------------+--------+--------------------+\n",
            "| 152435.2306188349| 94600.0|[-62.065401082150...|\n",
            "| 84370.03048787032| 85800.0|[-62.040445150874...|\n",
            "|102754.79100384345| 73200.0|[-62.005506847089...|\n",
            "| 81681.91756661709| 70200.0|[-61.980550915813...|\n",
            "|160190.61269088596|116100.0|[-61.975559729558...|\n",
            "+------------------+--------+--------------------+\n",
            "only showing top 5 rows\n",
            "\n",
            "Root Mean Squared Error (RMSE) on test data = 55034.80320792159\n"
          ]
        }
      ]
    },
    {
      "cell_type": "markdown",
      "metadata": {
        "id": "LrC_rcPtmYCJ"
      },
      "source": [
        "---\n",
        "# 6. Hyperparameter tuning\n",
        "An important task in Machie Learning is model selection, or using data to find the best model or parameters for a given task. This is also called tuning. Tuning may be done for individual Estimators such as LinearRegression, or for entire Pipelines which include multiple algorithms, featurization, and other steps. Users can tune an entire Pipeline at once, rather than tuning each element in the Pipeline separately. MLlib supports model selection tools, such as `CrossValidator`. These tools require the following items:\n",
        "* Estimator: algorithm or Pipeline to tune (`setEstimator`)\n",
        "* Set of ParamMaps: parameters to choose from, sometimes called a \"parameter grid\" to search over (`setEstimatorParamMaps`)\n",
        "* Evaluator: metric to measure how well a fitted Model does on held-out test data (`setEvaluator`)\n",
        "\n",
        "`CrossValidator` begins by splitting the dataset into a set of folds, which are used as separate training and test datasets. For example with `k=3` folds, `CrossValidator` will generate 3 (training, test) dataset pairs, each of which uses 2/3 of the data for training and 1/3 for testing. To evaluate a particular `ParamMap`, `CrossValidator` computes the average evaluation metric for the 3 Models produced by fitting the Estimator on the 3 different (training, test) dataset pairs. After identifying the best `ParamMap`, `CrossValidator` finally re-fits the Estimator using the best ParamMap and the entire dataset.\n",
        "\n",
        "Below, use the `CrossValidator` to select the best Random Forest model. To do so, you need to define a grid of parameters. Let's say we want to do the search among the different number of trees (1, 5, and 10), and different tree depth (5, 10, and 15)."
      ]
    },
    {
      "cell_type": "code",
      "metadata": {
        "colab": {
          "base_uri": "https://localhost:8080/"
        },
        "id": "HjqQFw77mYCJ",
        "outputId": "23acb7c7-a5de-4593-ad3c-48b4cf640cc0"
      },
      "source": [
        "# TODO: Replace <FILL IN> with appropriate code\n",
        "\n",
        "from pyspark.ml.tuning import ParamGridBuilder\n",
        "from pyspark.ml.evaluation import RegressionEvaluator\n",
        "from pyspark.ml.tuning import CrossValidator\n",
        "\n",
        "paramGrid = ParamGridBuilder().addGrid(rf.numTrees, [1, 5, 10]).addGrid(rf.maxDepth, [5, 10, 15]).build()\n",
        "\n",
        "evaluator = RegressionEvaluator().setLabelCol(\"label\").setPredictionCol(\"prediction\").setMetricName(\"rmse\")\n",
        "cv = CrossValidator().setEstimator(rf).setEstimatorParamMaps(paramGrid).setEvaluator(evaluator).setNumFolds(3)\n",
        "cvModel = cv.fit(trainSet)\n",
        "\n",
        "predictions = cvModel.transform(testSet)\n",
        "predictions.select(\"prediction\", \"label\", \"features\").show(5)\n",
        "\n",
        "rmse = evaluator.evaluate(predictions)\n",
        "print(\"Root Mean Squared Error (RMSE) on test data = \" + str(rmse))"
      ],
      "execution_count": null,
      "outputs": [
        {
          "output_type": "stream",
          "name": "stdout",
          "text": [
            "+------------------+--------+--------------------+\n",
            "|        prediction|   label|            features|\n",
            "+------------------+--------+--------------------+\n",
            "|184486.36363636362| 94600.0|[-62.065401082150...|\n",
            "| 79155.64194373402| 85800.0|[-62.040445150874...|\n",
            "|123204.34782608696| 73200.0|[-62.005506847089...|\n",
            "| 78914.44444444445| 70200.0|[-61.980550915813...|\n",
            "|          198530.0|116100.0|[-61.975559729558...|\n",
            "+------------------+--------+--------------------+\n",
            "only showing top 5 rows\n",
            "\n",
            "Root Mean Squared Error (RMSE) on test data = 51357.24050647177\n"
          ]
        }
      ]
    },
    {
      "cell_type": "markdown",
      "metadata": {
        "id": "pI7kXNz0mYCJ"
      },
      "source": [
        "---\n",
        "# 7. An End-to-End Classification Test\n",
        "As the last step, you are given a dataset called `data/ccdefault.csv`. The dataset represents default of credit card clients. It has 30,000 cases and 24 different attributes. More details about the dataset is available at `data/ccdefault.txt`. In this task you should make three models, compare their results and conclude the ideal solution. Here are the suggested steps:\n",
        "1. Load the data.\n",
        "2. Carry out some exploratory analyses (e.g., how various features and the target variable are distributed).\n",
        "3. Train a model to predict the target variable (risk of `default`).\n",
        "  - Employ three different models (logistic regression, decision tree, and random forest).\n",
        "  - Compare the models' performances (e.g., AUC).\n",
        "  - Defend your choice of best model (e.g., what are the strength and weaknesses of each of these models?).\n",
        "4. What more would you do with this data? Anything to help you devise a better solution?"
      ]
    },
    {
      "cell_type": "markdown",
      "metadata": {
        "id": "6fHQxkpgmYCJ"
      },
      "source": [
        "## 7.1. Load the data"
      ]
    },
    {
      "cell_type": "code",
      "metadata": {
        "colab": {
          "base_uri": "https://localhost:8080/"
        },
        "id": "JRBq6Z-emYCJ",
        "outputId": "67517b66-40c2-491c-f343-421f1f46f3be"
      },
      "source": [
        "ccdefault = spark.read.format(\"csv\").option(\"inferSchema\", \"true\").option(\"header\", \"true\").\\\n",
        "            load(\"data/ccdefault.csv\")\n",
        "ccdefault.show(5)"
      ],
      "execution_count": null,
      "outputs": [
        {
          "output_type": "stream",
          "name": "stdout",
          "text": [
            "+---+---------+---+---------+--------+---+-----+-----+-----+-----+-----+-----+---------+---------+---------+---------+---------+---------+--------+--------+--------+--------+--------+--------+-------+\n",
            "| ID|LIMIT_BAL|SEX|EDUCATION|MARRIAGE|AGE|PAY_0|PAY_2|PAY_3|PAY_4|PAY_5|PAY_6|BILL_AMT1|BILL_AMT2|BILL_AMT3|BILL_AMT4|BILL_AMT5|BILL_AMT6|PAY_AMT1|PAY_AMT2|PAY_AMT3|PAY_AMT4|PAY_AMT5|PAY_AMT6|DEFAULT|\n",
            "+---+---------+---+---------+--------+---+-----+-----+-----+-----+-----+-----+---------+---------+---------+---------+---------+---------+--------+--------+--------+--------+--------+--------+-------+\n",
            "|  1|    20000|  2|        2|       1| 24|    2|    2|   -1|   -1|   -2|   -2|     3913|     3102|      689|        0|        0|        0|       0|     689|       0|       0|       0|       0|      1|\n",
            "|  2|   120000|  2|        2|       2| 26|   -1|    2|    0|    0|    0|    2|     2682|     1725|     2682|     3272|     3455|     3261|       0|    1000|    1000|    1000|       0|    2000|      1|\n",
            "|  3|    90000|  2|        2|       2| 34|    0|    0|    0|    0|    0|    0|    29239|    14027|    13559|    14331|    14948|    15549|    1518|    1500|    1000|    1000|    1000|    5000|      0|\n",
            "|  4|    50000|  2|        2|       1| 37|    0|    0|    0|    0|    0|    0|    46990|    48233|    49291|    28314|    28959|    29547|    2000|    2019|    1200|    1100|    1069|    1000|      0|\n",
            "|  5|    50000|  1|        2|       1| 57|   -1|    0|   -1|    0|    0|    0|     8617|     5670|    35835|    20940|    19146|    19131|    2000|   36681|   10000|    9000|     689|     679|      0|\n",
            "+---+---------+---+---------+--------+---+-----+-----+-----+-----+-----+-----+---------+---------+---------+---------+---------+---------+--------+--------+--------+--------+--------+--------+-------+\n",
            "only showing top 5 rows\n",
            "\n"
          ]
        }
      ]
    },
    {
      "cell_type": "markdown",
      "metadata": {
        "id": "o6vtrZ8KmYCK"
      },
      "source": [
        "## 7.2. Carry out some exploratory analyses"
      ]
    },
    {
      "cell_type": "markdown",
      "metadata": {
        "id": "7k6tmerpmYCK"
      },
      "source": [
        "Print the schema of the dataset"
      ]
    },
    {
      "cell_type": "code",
      "metadata": {
        "colab": {
          "base_uri": "https://localhost:8080/"
        },
        "id": "vC5qMy_SmYCK",
        "outputId": "7f34b61b-da6d-470e-e1ee-d57fa2f827e7"
      },
      "source": [
        "ccdefault.printSchema()"
      ],
      "execution_count": null,
      "outputs": [
        {
          "output_type": "stream",
          "name": "stdout",
          "text": [
            "root\n",
            " |-- ID: integer (nullable = true)\n",
            " |-- LIMIT_BAL: integer (nullable = true)\n",
            " |-- SEX: integer (nullable = true)\n",
            " |-- EDUCATION: integer (nullable = true)\n",
            " |-- MARRIAGE: integer (nullable = true)\n",
            " |-- AGE: integer (nullable = true)\n",
            " |-- PAY_0: integer (nullable = true)\n",
            " |-- PAY_2: integer (nullable = true)\n",
            " |-- PAY_3: integer (nullable = true)\n",
            " |-- PAY_4: integer (nullable = true)\n",
            " |-- PAY_5: integer (nullable = true)\n",
            " |-- PAY_6: integer (nullable = true)\n",
            " |-- BILL_AMT1: integer (nullable = true)\n",
            " |-- BILL_AMT2: integer (nullable = true)\n",
            " |-- BILL_AMT3: integer (nullable = true)\n",
            " |-- BILL_AMT4: integer (nullable = true)\n",
            " |-- BILL_AMT5: integer (nullable = true)\n",
            " |-- BILL_AMT6: integer (nullable = true)\n",
            " |-- PAY_AMT1: integer (nullable = true)\n",
            " |-- PAY_AMT2: integer (nullable = true)\n",
            " |-- PAY_AMT3: integer (nullable = true)\n",
            " |-- PAY_AMT4: integer (nullable = true)\n",
            " |-- PAY_AMT5: integer (nullable = true)\n",
            " |-- PAY_AMT6: integer (nullable = true)\n",
            " |-- DEFAULT: integer (nullable = true)\n",
            "\n"
          ]
        }
      ]
    },
    {
      "cell_type": "markdown",
      "metadata": {
        "id": "c04E1PMHmYCK"
      },
      "source": [
        "Print the number of records in the dataset."
      ]
    },
    {
      "cell_type": "code",
      "metadata": {
        "colab": {
          "base_uri": "https://localhost:8080/"
        },
        "id": "y1jZ9GUFmYCK",
        "outputId": "4de6968f-13f5-4c71-cce8-5cf6a11df210"
      },
      "source": [
        "ccdefault.count()"
      ],
      "execution_count": null,
      "outputs": [
        {
          "output_type": "execute_result",
          "data": {
            "text/plain": [
              "30000"
            ]
          },
          "metadata": {},
          "execution_count": 37
        }
      ]
    },
    {
      "cell_type": "markdown",
      "metadata": {
        "id": "s1XHirBCmYCK"
      },
      "source": [
        "Print a summary of the table statistics for the attributes `LIMIT_BAL` and `AGE`."
      ]
    },
    {
      "cell_type": "code",
      "metadata": {
        "colab": {
          "base_uri": "https://localhost:8080/"
        },
        "id": "4azlRRKTmYCK",
        "outputId": "e14928ce-8934-49fd-c0ee-f40737baed55"
      },
      "source": [
        "ccdefault.describe([\"LIMIT_BAL\"]).show()\n",
        "ccdefault.describe([\"AGE\"]).show()"
      ],
      "execution_count": null,
      "outputs": [
        {
          "output_type": "stream",
          "name": "stdout",
          "text": [
            "+-------+------------------+\n",
            "|summary|         LIMIT_BAL|\n",
            "+-------+------------------+\n",
            "|  count|             30000|\n",
            "|   mean|167484.32266666667|\n",
            "| stddev|129747.66156720246|\n",
            "|    min|             10000|\n",
            "|    max|           1000000|\n",
            "+-------+------------------+\n",
            "\n",
            "+-------+-----------------+\n",
            "|summary|              AGE|\n",
            "+-------+-----------------+\n",
            "|  count|            30000|\n",
            "|   mean|          35.4855|\n",
            "| stddev|9.217904068090155|\n",
            "|    min|               21|\n",
            "|    max|               79|\n",
            "+-------+-----------------+\n",
            "\n"
          ]
        }
      ]
    },
    {
      "cell_type": "markdown",
      "metadata": {
        "id": "xgt6dtk7mYCL"
      },
      "source": [
        "Breakdown the data by cateforical data"
      ]
    },
    {
      "cell_type": "code",
      "metadata": {
        "colab": {
          "base_uri": "https://localhost:8080/"
        },
        "id": "IaH7CtsFmYCL",
        "outputId": "13999ac5-d73e-422e-876a-29e81ee76348"
      },
      "source": [
        "ccdefault.groupBy(\"SEX\").count().sort(\"count\", ascending = False).show()\n",
        "ccdefault.groupBy(\"EDUCATION\").count().sort(\"count\", ascending = False).show()\n",
        "ccdefault.groupBy(\"MARRIAGE\").count().sort(\"count\", ascending = False).show()"
      ],
      "execution_count": null,
      "outputs": [
        {
          "output_type": "stream",
          "name": "stdout",
          "text": [
            "+---+-----+\n",
            "|SEX|count|\n",
            "+---+-----+\n",
            "|  2|18112|\n",
            "|  1|11888|\n",
            "+---+-----+\n",
            "\n",
            "+---------+-----+\n",
            "|EDUCATION|count|\n",
            "+---------+-----+\n",
            "|        2|14030|\n",
            "|        1|10585|\n",
            "|        3| 4917|\n",
            "|        5|  280|\n",
            "|        4|  123|\n",
            "|        6|   51|\n",
            "|        0|   14|\n",
            "+---------+-----+\n",
            "\n",
            "+--------+-----+\n",
            "|MARRIAGE|count|\n",
            "+--------+-----+\n",
            "|       2|15964|\n",
            "|       1|13659|\n",
            "|       3|  323|\n",
            "|       0|   54|\n",
            "+--------+-----+\n",
            "\n"
          ]
        }
      ]
    },
    {
      "cell_type": "markdown",
      "metadata": {
        "id": "AosQSRWumYCL"
      },
      "source": [
        "## 7.3. Train a model to predict the target variable"
      ]
    },
    {
      "cell_type": "markdown",
      "metadata": {
        "id": "Elz6J47ZmYCL"
      },
      "source": [
        "### 7.3.1. Prepare the data"
      ]
    },
    {
      "cell_type": "code",
      "metadata": {
        "colab": {
          "base_uri": "https://localhost:8080/"
        },
        "id": "EnmQx_7ymYCL",
        "outputId": "088a1966-5397-4cb5-ba4f-ca5e039385b5"
      },
      "source": [
        "renamedccdefault = ccdefault.withColumnRenamed(\"DEFAULT\",\"LABEL\").withColumnRenamed(\"PAY_0\", \"PAY_1\").drop(\"ID\")\n",
        "renamedccdefault.show(1)"
      ],
      "execution_count": null,
      "outputs": [
        {
          "output_type": "stream",
          "name": "stdout",
          "text": [
            "+---------+---+---------+--------+---+-----+-----+-----+-----+-----+-----+---------+---------+---------+---------+---------+---------+--------+--------+--------+--------+--------+--------+-----+\n",
            "|LIMIT_BAL|SEX|EDUCATION|MARRIAGE|AGE|PAY_1|PAY_2|PAY_3|PAY_4|PAY_5|PAY_6|BILL_AMT1|BILL_AMT2|BILL_AMT3|BILL_AMT4|BILL_AMT5|BILL_AMT6|PAY_AMT1|PAY_AMT2|PAY_AMT3|PAY_AMT4|PAY_AMT5|PAY_AMT6|LABEL|\n",
            "+---------+---+---------+--------+---+-----+-----+-----+-----+-----+-----+---------+---------+---------+---------+---------+---------+--------+--------+--------+--------+--------+--------+-----+\n",
            "|    20000|  2|        2|       1| 24|    2|    2|   -1|   -1|   -2|   -2|     3913|     3102|      689|        0|        0|        0|       0|     689|       0|       0|       0|       0|    1|\n",
            "+---------+---+---------+--------+---+-----+-----+-----+-----+-----+-----+---------+---------+---------+---------+---------+---------+--------+--------+--------+--------+--------+--------+-----+\n",
            "only showing top 1 row\n",
            "\n"
          ]
        }
      ]
    },
    {
      "cell_type": "markdown",
      "metadata": {
        "id": "PMgbC6zSmYCL"
      },
      "source": [
        "Separate the numerical attributes from the categorical attribute"
      ]
    },
    {
      "cell_type": "code",
      "metadata": {
        "colab": {
          "base_uri": "https://localhost:8080/"
        },
        "id": "WKO_MKPemYCL",
        "outputId": "8f125f50-8e32-4ea9-b5ac-ffc05c270255"
      },
      "source": [
        "colLabel = \"LABEL\"\n",
        "colCat = [\"SEX\", \"EDUCATION\", \"MARRIAGE\"]\n",
        "colNum = renamedccdefault.schema.names\n",
        "colNum.remove(colLabel)\n",
        "for i in colCat:\n",
        "    colNum.remove(i)\n",
        "print(colNum)"
      ],
      "execution_count": null,
      "outputs": [
        {
          "output_type": "stream",
          "name": "stdout",
          "text": [
            "['LIMIT_BAL', 'AGE', 'PAY_1', 'PAY_2', 'PAY_3', 'PAY_4', 'PAY_5', 'PAY_6', 'BILL_AMT1', 'BILL_AMT2', 'BILL_AMT3', 'BILL_AMT4', 'BILL_AMT5', 'BILL_AMT6', 'PAY_AMT1', 'PAY_AMT2', 'PAY_AMT3', 'PAY_AMT4', 'PAY_AMT5', 'PAY_AMT6']\n"
          ]
        }
      ]
    },
    {
      "cell_type": "markdown",
      "metadata": {
        "id": "4gl9mad3mYCM"
      },
      "source": [
        "Find the columns with missing values in the numerical attributes"
      ]
    },
    {
      "cell_type": "code",
      "metadata": {
        "colab": {
          "base_uri": "https://localhost:8080/"
        },
        "id": "ZZV7wlgemYCM",
        "outputId": "9949a47c-27e4-408d-98f1-6dd430b9bf64"
      },
      "source": [
        "renamedccdefault.select([count(when(col(c).isNull(), c)).alias(c) for c in renamedccdefault.columns]).show()"
      ],
      "execution_count": null,
      "outputs": [
        {
          "output_type": "stream",
          "name": "stdout",
          "text": [
            "+---------+---+---------+--------+---+-----+-----+-----+-----+-----+-----+---------+---------+---------+---------+---------+---------+--------+--------+--------+--------+--------+--------+-----+\n",
            "|LIMIT_BAL|SEX|EDUCATION|MARRIAGE|AGE|PAY_1|PAY_2|PAY_3|PAY_4|PAY_5|PAY_6|BILL_AMT1|BILL_AMT2|BILL_AMT3|BILL_AMT4|BILL_AMT5|BILL_AMT6|PAY_AMT1|PAY_AMT2|PAY_AMT3|PAY_AMT4|PAY_AMT5|PAY_AMT6|LABEL|\n",
            "+---------+---+---------+--------+---+-----+-----+-----+-----+-----+-----+---------+---------+---------+---------+---------+---------+--------+--------+--------+--------+--------+--------+-----+\n",
            "|        0|  0|        0|       0|  0|    0|    0|    0|    0|    0|    0|        0|        0|        0|        0|        0|        0|       0|       0|       0|       0|       0|       0|    0|\n",
            "+---------+---+---------+--------+---+-----+-----+-----+-----+-----+-----+---------+---------+---------+---------+---------+---------+--------+--------+--------+--------+--------+--------+-----+\n",
            "\n"
          ]
        }
      ]
    },
    {
      "cell_type": "markdown",
      "metadata": {
        "id": "r7nipYtAmYCM"
      },
      "source": [
        "Scaling"
      ]
    },
    {
      "cell_type": "code",
      "metadata": {
        "colab": {
          "base_uri": "https://localhost:8080/"
        },
        "id": "_gjfzkfbmYCM",
        "outputId": "2dec7108-9a78-44cc-9364-f1df16719f40"
      },
      "source": [
        "va = VectorAssembler(inputCols=colNum, outputCol=\"vector_of_features\")\n",
        "\n",
        "featuredccdefault = va.transform(renamedccdefault)\n",
        "\n",
        "scaler = StandardScaler().setInputCol(\"vector_of_features\").setOutputCol(\"scaled_features\")\n",
        "scaledccdefault = scaler.fit(featuredccdefault).transform(featuredccdefault)\n",
        "\n",
        "scaledccdefault.show(5)"
      ],
      "execution_count": null,
      "outputs": [
        {
          "output_type": "stream",
          "name": "stdout",
          "text": [
            "+---------+---+---------+--------+---+-----+-----+-----+-----+-----+-----+---------+---------+---------+---------+---------+---------+--------+--------+--------+--------+--------+--------+-----+--------------------+--------------------+\n",
            "|LIMIT_BAL|SEX|EDUCATION|MARRIAGE|AGE|PAY_1|PAY_2|PAY_3|PAY_4|PAY_5|PAY_6|BILL_AMT1|BILL_AMT2|BILL_AMT3|BILL_AMT4|BILL_AMT5|BILL_AMT6|PAY_AMT1|PAY_AMT2|PAY_AMT3|PAY_AMT4|PAY_AMT5|PAY_AMT6|LABEL|  vector_of_features|     scaled_features|\n",
            "+---------+---+---------+--------+---+-----+-----+-----+-----+-----+-----+---------+---------+---------+---------+---------+---------+--------+--------+--------+--------+--------+--------+-----+--------------------+--------------------+\n",
            "|    20000|  2|        2|       1| 24|    2|    2|   -1|   -1|   -2|   -2|     3913|     3102|      689|        0|        0|        0|       0|     689|       0|       0|       0|       0|    1|(20,[0,1,2,3,4,5,...|(20,[0,1,2,3,4,5,...|\n",
            "|   120000|  2|        2|       2| 26|   -1|    2|    0|    0|    0|    2|     2682|     1725|     2682|     3272|     3455|     3261|       0|    1000|    1000|    1000|       0|    2000|    1|[120000.0,26.0,-1...|[0.92487215993365...|\n",
            "|    90000|  2|        2|       2| 34|    0|    0|    0|    0|    0|    0|    29239|    14027|    13559|    14331|    14948|    15549|    1518|    1500|    1000|    1000|    1000|    5000|    0|[90000.0,34.0,0.0...|[0.69365411995024...|\n",
            "|    50000|  2|        2|       1| 37|    0|    0|    0|    0|    0|    0|    46990|    48233|    49291|    28314|    28959|    29547|    2000|    2019|    1200|    1100|    1069|    1000|    0|[50000.0,37.0,0.0...|[0.38536339997235...|\n",
            "|    50000|  1|        2|       1| 57|   -1|    0|   -1|    0|    0|    0|     8617|     5670|    35835|    20940|    19146|    19131|    2000|   36681|   10000|    9000|     689|     679|    0|[50000.0,57.0,-1....|[0.38536339997235...|\n",
            "+---------+---+---------+--------+---+-----+-----+-----+-----+-----+-----+---------+---------+---------+---------+---------+---------+--------+--------+--------+--------+--------+--------+-----+--------------------+--------------------+\n",
            "only showing top 5 rows\n",
            "\n"
          ]
        }
      ]
    },
    {
      "cell_type": "markdown",
      "metadata": {
        "id": "uVqm2joJmYCM"
      },
      "source": [
        "OneHotEncoder"
      ]
    },
    {
      "cell_type": "code",
      "metadata": {
        "colab": {
          "base_uri": "https://localhost:8080/"
        },
        "id": "2XVhxHYSmYCM",
        "outputId": "91764eed-4681-421a-c50a-5152e2c194b4"
      },
      "source": [
        "encoder = OneHotEncoder(\n",
        "                        inputCols=[\"SEX\", \"EDUCATION\", \"MARRIAGE\"],\n",
        "                        outputCols=[\"SEX_e\", \"EDUCATION_e\", \"MARRIAGE_e\"])\n",
        "ohccdefault=encoder.fit(renamedccdefault).transform(renamedccdefault)\n",
        "ohccdefault.show(5)"
      ],
      "execution_count": null,
      "outputs": [
        {
          "output_type": "stream",
          "name": "stdout",
          "text": [
            "+---------+---+---------+--------+---+-----+-----+-----+-----+-----+-----+---------+---------+---------+---------+---------+---------+--------+--------+--------+--------+--------+--------+-----+-------------+-------------+-------------+\n",
            "|LIMIT_BAL|SEX|EDUCATION|MARRIAGE|AGE|PAY_1|PAY_2|PAY_3|PAY_4|PAY_5|PAY_6|BILL_AMT1|BILL_AMT2|BILL_AMT3|BILL_AMT4|BILL_AMT5|BILL_AMT6|PAY_AMT1|PAY_AMT2|PAY_AMT3|PAY_AMT4|PAY_AMT5|PAY_AMT6|LABEL|        SEX_e|  EDUCATION_e|   MARRIAGE_e|\n",
            "+---------+---+---------+--------+---+-----+-----+-----+-----+-----+-----+---------+---------+---------+---------+---------+---------+--------+--------+--------+--------+--------+--------+-----+-------------+-------------+-------------+\n",
            "|    20000|  2|        2|       1| 24|    2|    2|   -1|   -1|   -2|   -2|     3913|     3102|      689|        0|        0|        0|       0|     689|       0|       0|       0|       0|    1|    (2,[],[])|(6,[2],[1.0])|(3,[1],[1.0])|\n",
            "|   120000|  2|        2|       2| 26|   -1|    2|    0|    0|    0|    2|     2682|     1725|     2682|     3272|     3455|     3261|       0|    1000|    1000|    1000|       0|    2000|    1|    (2,[],[])|(6,[2],[1.0])|(3,[2],[1.0])|\n",
            "|    90000|  2|        2|       2| 34|    0|    0|    0|    0|    0|    0|    29239|    14027|    13559|    14331|    14948|    15549|    1518|    1500|    1000|    1000|    1000|    5000|    0|    (2,[],[])|(6,[2],[1.0])|(3,[2],[1.0])|\n",
            "|    50000|  2|        2|       1| 37|    0|    0|    0|    0|    0|    0|    46990|    48233|    49291|    28314|    28959|    29547|    2000|    2019|    1200|    1100|    1069|    1000|    0|    (2,[],[])|(6,[2],[1.0])|(3,[1],[1.0])|\n",
            "|    50000|  1|        2|       1| 57|   -1|    0|   -1|    0|    0|    0|     8617|     5670|    35835|    20940|    19146|    19131|    2000|   36681|   10000|    9000|     689|     679|    0|(2,[1],[1.0])|(6,[2],[1.0])|(3,[1],[1.0])|\n",
            "+---------+---+---------+--------+---+-----+-----+-----+-----+-----+-----+---------+---------+---------+---------+---------+---------+--------+--------+--------+--------+--------+--------+-----+-------------+-------------+-------------+\n",
            "only showing top 5 rows\n",
            "\n"
          ]
        }
      ]
    },
    {
      "cell_type": "markdown",
      "metadata": {
        "id": "lEFcTRRTmYCM"
      },
      "source": [
        "Pipeline"
      ]
    },
    {
      "cell_type": "code",
      "metadata": {
        "colab": {
          "base_uri": "https://localhost:8080/"
        },
        "id": "xWQp1jOwmYCN",
        "outputId": "4c115d5f-bd1b-45fa-e31e-616ec552c6e1"
      },
      "source": [
        "numPipeline = Pipeline().setStages([va, scaler])\n",
        "catPipeline = Pipeline().setStages([encoder])\n",
        "pipeline = Pipeline().setStages([numPipeline, catPipeline])\n",
        "newccdefault = pipeline.fit(renamedccdefault).transform(renamedccdefault)\n",
        "\n",
        "newccdefault.show(5)"
      ],
      "execution_count": null,
      "outputs": [
        {
          "output_type": "stream",
          "name": "stdout",
          "text": [
            "+---------+---+---------+--------+---+-----+-----+-----+-----+-----+-----+---------+---------+---------+---------+---------+---------+--------+--------+--------+--------+--------+--------+-----+--------------------+--------------------+-------------+-------------+-------------+\n",
            "|LIMIT_BAL|SEX|EDUCATION|MARRIAGE|AGE|PAY_1|PAY_2|PAY_3|PAY_4|PAY_5|PAY_6|BILL_AMT1|BILL_AMT2|BILL_AMT3|BILL_AMT4|BILL_AMT5|BILL_AMT6|PAY_AMT1|PAY_AMT2|PAY_AMT3|PAY_AMT4|PAY_AMT5|PAY_AMT6|LABEL|  vector_of_features|     scaled_features|        SEX_e|  EDUCATION_e|   MARRIAGE_e|\n",
            "+---------+---+---------+--------+---+-----+-----+-----+-----+-----+-----+---------+---------+---------+---------+---------+---------+--------+--------+--------+--------+--------+--------+-----+--------------------+--------------------+-------------+-------------+-------------+\n",
            "|    20000|  2|        2|       1| 24|    2|    2|   -1|   -1|   -2|   -2|     3913|     3102|      689|        0|        0|        0|       0|     689|       0|       0|       0|       0|    1|(20,[0,1,2,3,4,5,...|(20,[0,1,2,3,4,5,...|    (2,[],[])|(6,[2],[1.0])|(3,[1],[1.0])|\n",
            "|   120000|  2|        2|       2| 26|   -1|    2|    0|    0|    0|    2|     2682|     1725|     2682|     3272|     3455|     3261|       0|    1000|    1000|    1000|       0|    2000|    1|[120000.0,26.0,-1...|[0.92487215993365...|    (2,[],[])|(6,[2],[1.0])|(3,[2],[1.0])|\n",
            "|    90000|  2|        2|       2| 34|    0|    0|    0|    0|    0|    0|    29239|    14027|    13559|    14331|    14948|    15549|    1518|    1500|    1000|    1000|    1000|    5000|    0|[90000.0,34.0,0.0...|[0.69365411995024...|    (2,[],[])|(6,[2],[1.0])|(3,[2],[1.0])|\n",
            "|    50000|  2|        2|       1| 37|    0|    0|    0|    0|    0|    0|    46990|    48233|    49291|    28314|    28959|    29547|    2000|    2019|    1200|    1100|    1069|    1000|    0|[50000.0,37.0,0.0...|[0.38536339997235...|    (2,[],[])|(6,[2],[1.0])|(3,[1],[1.0])|\n",
            "|    50000|  1|        2|       1| 57|   -1|    0|   -1|    0|    0|    0|     8617|     5670|    35835|    20940|    19146|    19131|    2000|   36681|   10000|    9000|     689|     679|    0|[50000.0,57.0,-1....|[0.38536339997235...|(2,[1],[1.0])|(6,[2],[1.0])|(3,[1],[1.0])|\n",
            "+---------+---+---------+--------+---+-----+-----+-----+-----+-----+-----+---------+---------+---------+---------+---------+---------+--------+--------+--------+--------+--------+--------+-----+--------------------+--------------------+-------------+-------------+-------------+\n",
            "only showing top 5 rows\n",
            "\n"
          ]
        }
      ]
    },
    {
      "cell_type": "markdown",
      "metadata": {
        "id": "WNvnOmFOmYCN"
      },
      "source": [
        "Now, use `VectorAssembler` to put all attributes of the final dataset `newccdefault` into a big vector, and call the new column `features`."
      ]
    },
    {
      "cell_type": "code",
      "metadata": {
        "colab": {
          "base_uri": "https://localhost:8080/"
        },
        "id": "vkPtl7iImYCN",
        "outputId": "a23cfb87-a700-4e7a-e079-b532dd14e188"
      },
      "source": [
        "va2 = VectorAssembler().setInputCols([\"scaled_features\", \"SEX_e\", \"EDUCATION_e\", \"MARRIAGE_e\"]).setOutputCol(\"features\")\n",
        "dataset = va2.transform(newccdefault).select(\"features\", \"LABEL\")\n",
        "\n",
        "dataset.show(5)"
      ],
      "execution_count": null,
      "outputs": [
        {
          "output_type": "stream",
          "name": "stdout",
          "text": [
            "+--------------------+-----+\n",
            "|            features|LABEL|\n",
            "+--------------------+-----+\n",
            "|(31,[0,1,2,3,4,5,...|    1|\n",
            "|(31,[0,1,2,3,7,8,...|    1|\n",
            "|(31,[0,1,8,9,10,1...|    0|\n",
            "|(31,[0,1,8,9,10,1...|    0|\n",
            "|(31,[0,1,2,4,8,9,...|    0|\n",
            "+--------------------+-----+\n",
            "only showing top 5 rows\n",
            "\n"
          ]
        }
      ]
    },
    {
      "cell_type": "markdown",
      "metadata": {
        "id": "X4pQ-knWmYCN"
      },
      "source": [
        "### 7.3.2. Logistic regression"
      ]
    },
    {
      "cell_type": "code",
      "metadata": {
        "id": "eqpkv0HjmYCN"
      },
      "source": [
        "trainSet, testSet = dataset.randomSplit([0.8, 0.2])"
      ],
      "execution_count": null,
      "outputs": []
    },
    {
      "cell_type": "code",
      "metadata": {
        "colab": {
          "base_uri": "https://localhost:8080/"
        },
        "id": "sS8t5tmnmYCN",
        "outputId": "4117eafa-22c5-4c84-87f9-f37c3b68b4ea"
      },
      "source": [
        "from pyspark.ml.classification import LogisticRegression\n",
        "from pyspark.ml.evaluation import MulticlassClassificationEvaluator\n",
        "from pyspark.ml.evaluation import BinaryClassificationEvaluator\n",
        "\n",
        "lr = LogisticRegression().setFeaturesCol(\"features\").setLabelCol(\"LABEL\")\n",
        "\n",
        "# train the model\n",
        "lrModel = lr.fit(trainSet)\n",
        "\n",
        "# make predictions on the test data\n",
        "predictions = lrModel.transform(testSet)\n",
        "predictions.select(\"prediction\", \"LABEL\", \"features\").show(5)\n",
        "\n",
        "# evaluate\n",
        "predictions.groupBy('LABEL','prediction').count().show()\n",
        "e = BinaryClassificationEvaluator().setRawPredictionCol(\"prediction\").setLabelCol(\"LABEL\")\\\n",
        "                                   .setMetricName(\"areaUnderROC\")\n",
        "AUC = e.evaluate(predictions)\n",
        "print(\"AUC = \" + str(AUC))"
      ],
      "execution_count": null,
      "outputs": [
        {
          "output_type": "stream",
          "name": "stdout",
          "text": [
            "+----------+-----+--------------------+\n",
            "|prediction|LABEL|            features|\n",
            "+----------+-----+--------------------+\n",
            "|       1.0|    0|(31,[0,1,2,3,4,5,...|\n",
            "|       0.0|    0|(31,[0,1,2,3,4,5,...|\n",
            "|       0.0|    0|(31,[0,1,2,3,4,5,...|\n",
            "|       1.0|    1|(31,[0,1,2,3,4,5,...|\n",
            "|       0.0|    0|(31,[0,1,2,3,4,5,...|\n",
            "+----------+-----+--------------------+\n",
            "only showing top 5 rows\n",
            "\n",
            "+-----+----------+-----+\n",
            "|LABEL|prediction|count|\n",
            "+-----+----------+-----+\n",
            "|    1|       0.0|  968|\n",
            "|    0|       0.0| 4620|\n",
            "|    1|       1.0|  312|\n",
            "|    0|       1.0|  140|\n",
            "+-----+----------+-----+\n",
            "\n",
            "AUC = 0.6071691176470587\n"
          ]
        }
      ]
    },
    {
      "cell_type": "markdown",
      "metadata": {
        "id": "9cFEOLU-mYCO"
      },
      "source": [
        "### 7.3.3. Decision tree"
      ]
    },
    {
      "cell_type": "code",
      "metadata": {
        "colab": {
          "base_uri": "https://localhost:8080/"
        },
        "id": "FM58HJ4VmYCO",
        "outputId": "6d0f0e36-1b39-4686-ef04-d9ba4af7600b"
      },
      "source": [
        "from pyspark.ml.classification import DecisionTreeClassifier\n",
        "\n",
        "dt = DecisionTreeClassifier().setFeaturesCol(\"features\").setLabelCol(\"LABEL\")\n",
        "\n",
        "# train the model\n",
        "dtModel = dt.fit(trainSet)\n",
        "\n",
        "# make predictions on the test data\n",
        "predictions = dtModel.transform(testSet)\n",
        "predictions.select(\"prediction\", \"LABEL\", \"features\").show(5)\n",
        "\n",
        "# select (prediction, true label) and compute test error\n",
        "predictions.groupBy('LABEL','prediction').count().show()\n",
        "e = BinaryClassificationEvaluator().setRawPredictionCol(\"prediction\").setLabelCol(\"LABEL\")\\\n",
        "                                   .setMetricName(\"areaUnderROC\")\n",
        "AUC = e.evaluate(predictions)\n",
        "print(\"AUC = \" + str(AUC))"
      ],
      "execution_count": null,
      "outputs": [
        {
          "output_type": "stream",
          "name": "stdout",
          "text": [
            "+----------+-----+--------------------+\n",
            "|prediction|LABEL|            features|\n",
            "+----------+-----+--------------------+\n",
            "|       0.0|    0|(31,[0,1,2,3,4,5,...|\n",
            "|       0.0|    0|(31,[0,1,2,3,4,5,...|\n",
            "|       0.0|    0|(31,[0,1,2,3,4,5,...|\n",
            "|       1.0|    1|(31,[0,1,2,3,4,5,...|\n",
            "|       0.0|    0|(31,[0,1,2,3,4,5,...|\n",
            "+----------+-----+--------------------+\n",
            "only showing top 5 rows\n",
            "\n",
            "+-----+----------+-----+\n",
            "|LABEL|prediction|count|\n",
            "+-----+----------+-----+\n",
            "|    1|       0.0|  809|\n",
            "|    0|       0.0| 4502|\n",
            "|    1|       1.0|  471|\n",
            "|    0|       1.0|  258|\n",
            "+-----+----------+-----+\n",
            "\n",
            "AUC = 0.6568835346638655\n"
          ]
        }
      ]
    },
    {
      "cell_type": "markdown",
      "metadata": {
        "id": "A-VI-_bWmYCO"
      },
      "source": [
        "### 7.3.4. Random forest"
      ]
    },
    {
      "cell_type": "code",
      "metadata": {
        "colab": {
          "base_uri": "https://localhost:8080/"
        },
        "id": "5XQXuM2CmYCO",
        "outputId": "b68427a5-889c-4c3a-abf0-e5486a74d047"
      },
      "source": [
        "from pyspark.ml.classification import RandomForestClassifier\n",
        "\n",
        "rf = RandomForestClassifier().setFeaturesCol(\"features\").setLabelCol(\"LABEL\")\n",
        "\n",
        "# train the model\n",
        "rfModel = rf.fit(trainSet)\n",
        "\n",
        "# make predictions on the test data\n",
        "predictions = rfModel.transform(testSet)\n",
        "predictions.select(\"prediction\", \"LABEL\", \"features\").show(5)\n",
        "\n",
        "# select (prediction, true label) and compute test error\n",
        "predictions.groupBy('LABEL','prediction').count().show()\n",
        "e = BinaryClassificationEvaluator().setRawPredictionCol(\"prediction\").setLabelCol(\"LABEL\")\\\n",
        "                                   .setMetricName(\"areaUnderROC\")\n",
        "AUC = e.evaluate(predictions)\n",
        "print(\"AUC = \" + str(AUC))"
      ],
      "execution_count": null,
      "outputs": [
        {
          "output_type": "stream",
          "name": "stdout",
          "text": [
            "+----------+-----+--------------------+\n",
            "|prediction|LABEL|            features|\n",
            "+----------+-----+--------------------+\n",
            "|       1.0|    0|(31,[0,1,2,3,4,5,...|\n",
            "|       0.0|    0|(31,[0,1,2,3,4,5,...|\n",
            "|       0.0|    0|(31,[0,1,2,3,4,5,...|\n",
            "|       1.0|    1|(31,[0,1,2,3,4,5,...|\n",
            "|       0.0|    0|(31,[0,1,2,3,4,5,...|\n",
            "+----------+-----+--------------------+\n",
            "only showing top 5 rows\n",
            "\n",
            "+-----+----------+-----+\n",
            "|LABEL|prediction|count|\n",
            "+-----+----------+-----+\n",
            "|    1|       0.0|  813|\n",
            "|    0|       0.0| 4541|\n",
            "|    1|       1.0|  467|\n",
            "|    0|       1.0|  219|\n",
            "+-----+----------+-----+\n",
            "\n",
            "AUC = 0.6594176733193277\n"
          ]
        }
      ]
    },
    {
      "cell_type": "markdown",
      "metadata": {
        "id": "ijO80Qs4mYCO"
      },
      "source": [
        "### 7.3.5. Defend the choice"
      ]
    },
    {
      "cell_type": "markdown",
      "metadata": {
        "id": "CIFaqWcrmYCP"
      },
      "source": [
        "In this example, we may think decision tree has the best result and logistic regression has the worset result. And random forest is between them. Actually, their performance are close to each other. Therefore, if we change our data set, we may get different performance result. We should choose the best model based on the data set.\n",
        "\n",
        "For logistic regression, it is easy to implement; it does not require a lot of compuational time. However, when there are too many features, its perfomance may decrease; it is likely to underfit the data.  \n",
        "\n",
        "For decision tree, it is easy for people to understand and explain the logic behind it; it is efficient and can be used with large amount of data. However, it is easy to overfit the data; it pays less attention to the relation between different groups of data.\n",
        "\n",
        "For random forest, it is less likely to overfit the data due to the randomness; it is of high accuracy on a majority of data set. However, when the number of trees is large, it will consmue a lot of time and space to train and predict."
      ]
    },
    {
      "cell_type": "markdown",
      "metadata": {
        "id": "HpU0E8P1mYCP"
      },
      "source": [
        "## 7.4. What more would you do with this data? Anything to help you devise a better solution?"
      ]
    },
    {
      "cell_type": "markdown",
      "metadata": {
        "id": "c8Lpzw0XmYCP"
      },
      "source": [
        "First, we can filter the data. Some data are not so relative to the label, we can drop them to dcrease the number of features to improve performance, especially logistic regression.\n",
        "\n",
        "We can also add cross validation process during training to increase the performance. However, this may cost more time to train and predict.\n",
        "\n",
        "We may also try some other models like gradient boosting to find the one with best performance on this data set."
      ]
    },
    {
      "cell_type": "code",
      "metadata": {
        "id": "ruEb-lAhmYCP"
      },
      "source": [
        ""
      ],
      "execution_count": null,
      "outputs": []
    }
  ]
}